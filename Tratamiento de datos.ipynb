{
 "cells": [
  {
   "attachments": {},
   "cell_type": "markdown",
   "metadata": {},
   "source": [
    "# Datasets: alquileres de AirBnb de ciuades europeas."
   ]
  },
  {
   "attachments": {},
   "cell_type": "markdown",
   "metadata": {},
   "source": [
    "Durante el TP, se trabajará con un dataset conformado por múltiples archivos CSV, donde todos tienen las mismas columnas, y cada fila corresponde a una propiedad en alquiler publicada en AirBnb.\n",
    "\n",
    "# Columnas\n",
    "\n",
    "A continuación se describen las columnas de cada archivo CSV:\n",
    "\n",
    "* realSum: El precio total del alojamiento para dos personas y dos noches en EUR.\n",
    "* room_type: El tipo de alojamiento.\n",
    "* room_shared: Variable ficticia que indica si las habitaciones son compartidas.\n",
    "* room_private: Variable ficticia para habitaciones privadas.\n",
    "* person_capacity: El número máximo de huéspedes.\n",
    "* host_is_superhost: Variable ficticia que indica si el anfitrión es un “superanfitrión”.\n",
    "* multi: Variable ficticia que indica si la publicación pertenece a anfitriones con 2-4 ofertas.\n",
    "* biz: Variable ficticia que indica si la publicación pertenece a anfitriones con más de 4 ofertas.\n",
    "* cleanliness_rating: Calificación de limpieza. Oscila entre 2 (como peor calificación) y 10 (como mejor calificación)\n",
    "* guest_satisfaction_overall: Calificación general del alojamiento. Oscila entre 0 (para el menor valor) y 100 (para el mayor valor).\n",
    "* bedrooms: Número de habitaciones (0 para estudios).\n",
    "* dist: Distancia hasta el centro de la ciudad, en km.\n",
    "* metro_dist: Distancia desde la estación de metro más cercana, en km.\n",
    "* attr_index: Índice de atracción de la ubicación del alojamiento listado.\n",
    "* attr_index_norm: Índice de atracción normalizado (0-100).\n",
    "* rest_index: Índice de restaurantes de la ubicación del alojamiento .\n",
    "* attr_index_norm: Índice de restaurantes normalizado (0-100).\n",
    "* lng: Coordenadas de longitud de la ubicación del alojamiento.\n",
    "* lat: Coordenadas de latitud de la ubicación del alojamiento."
   ]
  }
 ],
 "metadata": {
  "kernelspec": {
   "display_name": "Python 3",
   "language": "python",
   "name": "python3"
  },
  "language_info": {
   "codemirror_mode": {
    "name": "ipython",
    "version": 3
   },
   "file_extension": ".py",
   "mimetype": "text/x-python",
   "name": "python",
   "nbconvert_exporter": "python",
   "pygments_lexer": "ipython3",
   "version": "3.11.2"
  },
  "orig_nbformat": 4
 },
 "nbformat": 4,
 "nbformat_minor": 2
}

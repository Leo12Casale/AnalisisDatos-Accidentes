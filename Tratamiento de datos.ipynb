{
 "cells": [
  {
   "attachments": {},
   "cell_type": "markdown",
   "metadata": {},
   "source": [
    "# Datasets: alquileres de inmuebles en ciuades europeas - Airbnb."
   ]
  },
  {
   "attachments": {},
   "cell_type": "markdown",
   "metadata": {},
   "source": [
    "Durante el TP, se trabajará con un dataset conformado por múltiples archivos CSV, donde todos tienen las mismas columnas, y cada fila corresponde a una propiedad en alquiler publicada en AirBnb.\n",
    "\n",
    "# Columnas\n",
    "\n",
    "A continuación se describen las columnas de cada archivo CSV:\n",
    "\n",
    "* realSum: El precio total del alojamiento para dos personas y dos noches en EUR.\n",
    "* room_type: El tipo de alojamiento.\n",
    "* room_shared: Variable ficticia que indica si las habitaciones son compartidas.\n",
    "* room_private: Variable ficticia para habitaciones privadas.\n",
    "* person_capacity: El número máximo de huéspedes.\n",
    "* host_is_superhost: Variable ficticia que indica si el anfitrión es un “superanfitrión”.\n",
    "* multi: Variable ficticia que indica si la publicación pertenece a anfitriones con 2-4 ofertas.\n",
    "* biz: Variable ficticia que indica si la publicación pertenece a anfitriones con más de 4 ofertas.\n",
    "* cleanliness_rating: Calificación de limpieza. Oscila entre 2 (como peor calificación) y 10 (como mejor calificación)\n",
    "* guest_satisfaction_overall: Calificación general del alojamiento. Oscila entre 0 (para el menor valor) y 100 (para el mayor valor).\n",
    "* bedrooms: Número de habitaciones (0 para estudios).\n",
    "* dist: Distancia hasta el centro de la ciudad, en km.\n",
    "* metro_dist: Distancia desde la estación de metro más cercana, en km.\n",
    "* attr_index: Índice de atracción de la ubicación del alojamiento listado.\n",
    "* attr_index_norm: Índice de atracción normalizado (0-100).\n",
    "* rest_index: Índice de restaurantes de la ubicación del alojamiento .\n",
    "* attr_index_norm: Índice de restaurantes normalizado (0-100).\n",
    "* lng: Coordenadas de longitud de la ubicación del alojamiento.\n",
    "* lat: Coordenadas de latitud de la ubicación del alojamiento."
   ]
  },
  {
   "attachments": {},
   "cell_type": "markdown",
   "metadata": {},
   "source": [
    "# Unión de archivos CSV\n",
    "\n",
    "A continuación se muestra cómo se han agregado dos columnas en cada archivo:\n",
    "* weekday: corresponde a un booleano que indica si el alquiler es en día de semana\n",
    "* city: indica la ciudad europea donde se encuentra el inmueble\n",
    "\n",
    "Estas dos columnas, se agregan a cada archivo para luego identificarlos al momento de realizar la unión."
   ]
  },
  {
   "cell_type": "code",
   "execution_count": 59,
   "metadata": {},
   "outputs": [
    {
     "name": "stdout",
     "output_type": "stream",
     "text": [
      "realSum                        279.879591\n",
      "room_shared                      0.007078\n",
      "room_private                     0.361518\n",
      "person_capacity                  3.161661\n",
      "host_is_superhost                0.255903\n",
      "multi                            0.291353\n",
      "biz                              0.350204\n",
      "cleanliness_rating               9.390624\n",
      "guest_satisfaction_overall      92.628232\n",
      "bedrooms                         1.158760\n",
      "dist                             3.191285\n",
      "metro_dist                       0.681540\n",
      "attr_index                     294.204105\n",
      "attr_index_norm                 13.423792\n",
      "rest_index                     626.856696\n",
      "rest_index_norm                 22.786177\n",
      "lng                              7.426068\n",
      "lat                             45.671128\n",
      "weekday                          0.493163\n",
      "Unnamed: 0                    1620.502388\n",
      "dtype: float64\n"
     ]
    }
   ],
   "source": [
    "import os\n",
    "import pandas as pd\n",
    "\n",
    "folder_path = os.getcwd()\n",
    "folder_path\n",
    "\n",
    "dataframes=[]\n",
    "\n",
    "#Creamos dataframe que contendrá a todos los archivos\n",
    "columnas = ['realSum', 'room_type', 'room_shared', 'room_private', 'person_capacity',\n",
    "            'host_is_superhost', 'multi', 'biz', 'cleanliness_rating', 'guest_satisfaction_overall',\n",
    "            'bedrooms', 'dist', 'metro_dist', 'attr_index', 'attr_index_norm', 'rest_index',\n",
    "            'rest_index_norm', 'lng', 'lat', 'weekday', 'city']\n",
    "df_combinado = pd.DataFrame(columns=columnas)\n",
    "\n",
    "for file_name in os.listdir(folder_path):\n",
    "    if file_name.endswith('.csv'):\n",
    "        file_path = os.path.join(folder_path, file_name)\n",
    "\n",
    "        # Obtén el nombre de la ciudad del archivo\n",
    "        city = file_name.split('_')[0]\n",
    "\n",
    "        # Determina si es un archivo de días de semana o fin de semana\n",
    "        is_weekday = file_name.endswith('_weekdays.csv')\n",
    "\n",
    "        # Leer el archivo CSV en un DataFrame\n",
    "        df = pd.read_csv(file_path, engine='python', delimiter=',')\n",
    "        \n",
    "        # Agregar las columnas 'weekday' y 'city'\n",
    "        df['weekday'] = is_weekday\n",
    "        df['city'] = city\n",
    "\n",
    "        #Unimos los dataframes\n",
    "        df_combinado = pd.concat([df_combinado, df])\n",
    "        \n",
    "df_combinado = df_combinado.reset_index(drop=True) #Revisar"
   ]
  }
 ],
 "metadata": {
  "kernelspec": {
   "display_name": "Python 3",
   "language": "python",
   "name": "python3"
  },
  "language_info": {
   "codemirror_mode": {
    "name": "ipython",
    "version": 3
   },
   "file_extension": ".py",
   "mimetype": "text/x-python",
   "name": "python",
   "nbconvert_exporter": "python",
   "pygments_lexer": "ipython3",
   "version": "3.6.4"
  },
  "orig_nbformat": 4
 },
 "nbformat": 4,
 "nbformat_minor": 2
}

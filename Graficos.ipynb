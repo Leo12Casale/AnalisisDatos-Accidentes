{
 "cells": [
  {
   "cell_type": "code",
   "execution_count": 2,
   "metadata": {},
   "outputs": [],
   "source": [
    "import matplotlib.pylab as plt\n",
    "import numpy as np\n",
    "import pandas as pd\n",
    "import seaborn as sns\n",
    "import matplotlib.pyplot as plt\n",
    "from sklearn.linear_model import LinearRegression\n",
    "from sklearn.model_selection import train_test_split\n",
    "from sklearn.metrics import mean_squared_error, r2_score"
   ]
  },
  {
   "cell_type": "code",
   "execution_count": 3,
   "metadata": {},
   "outputs": [
    {
     "data": {
      "text/html": [
       "<div>\n",
       "<style scoped>\n",
       "    .dataframe tbody tr th:only-of-type {\n",
       "        vertical-align: middle;\n",
       "    }\n",
       "\n",
       "    .dataframe tbody tr th {\n",
       "        vertical-align: top;\n",
       "    }\n",
       "\n",
       "    .dataframe thead th {\n",
       "        text-align: right;\n",
       "    }\n",
       "</style>\n",
       "<table border=\"1\" class=\"dataframe\">\n",
       "  <thead>\n",
       "    <tr style=\"text-align: right;\">\n",
       "      <th></th>\n",
       "      <th>ID</th>\n",
       "      <th>realSum</th>\n",
       "      <th>dayPrice</th>\n",
       "      <th>dayPriceByPerson</th>\n",
       "      <th>room_type</th>\n",
       "      <th>room_shared</th>\n",
       "      <th>room_private</th>\n",
       "      <th>person_capacity</th>\n",
       "      <th>host_is_superhost</th>\n",
       "      <th>multi</th>\n",
       "      <th>...</th>\n",
       "      <th>dist</th>\n",
       "      <th>metro_dist</th>\n",
       "      <th>attr_index</th>\n",
       "      <th>attr_index_norm</th>\n",
       "      <th>rest_index</th>\n",
       "      <th>rest_index_norm</th>\n",
       "      <th>lng</th>\n",
       "      <th>lat</th>\n",
       "      <th>city</th>\n",
       "      <th>weekday</th>\n",
       "    </tr>\n",
       "  </thead>\n",
       "  <tbody>\n",
       "    <tr>\n",
       "      <th>0</th>\n",
       "      <td>0</td>\n",
       "      <td>194.033698</td>\n",
       "      <td>388.067396</td>\n",
       "      <td>48.508425</td>\n",
       "      <td>Private room</td>\n",
       "      <td>False</td>\n",
       "      <td>True</td>\n",
       "      <td>2</td>\n",
       "      <td>False</td>\n",
       "      <td>1</td>\n",
       "      <td>...</td>\n",
       "      <td>5.022964</td>\n",
       "      <td>2.539380003</td>\n",
       "      <td>78.69037927</td>\n",
       "      <td>4.166707868</td>\n",
       "      <td>98.25389587</td>\n",
       "      <td>6.846472824</td>\n",
       "      <td>4.90569</td>\n",
       "      <td>52.41772</td>\n",
       "      <td>Amsterdam</td>\n",
       "      <td>True</td>\n",
       "    </tr>\n",
       "    <tr>\n",
       "      <th>1</th>\n",
       "      <td>1</td>\n",
       "      <td>344.245776</td>\n",
       "      <td>1376.983104</td>\n",
       "      <td>86.061444</td>\n",
       "      <td>Private room</td>\n",
       "      <td>False</td>\n",
       "      <td>True</td>\n",
       "      <td>4</td>\n",
       "      <td>False</td>\n",
       "      <td>0</td>\n",
       "      <td>...</td>\n",
       "      <td>0.488389</td>\n",
       "      <td>0.239403923</td>\n",
       "      <td>631.1763783</td>\n",
       "      <td>33.42120862</td>\n",
       "      <td>837.2807567</td>\n",
       "      <td>58.34292774</td>\n",
       "      <td>4.90005</td>\n",
       "      <td>52.37432</td>\n",
       "      <td>Amsterdam</td>\n",
       "      <td>True</td>\n",
       "    </tr>\n",
       "    <tr>\n",
       "      <th>2</th>\n",
       "      <td>2</td>\n",
       "      <td>264.101422</td>\n",
       "      <td>528.202845</td>\n",
       "      <td>66.025356</td>\n",
       "      <td>Private room</td>\n",
       "      <td>False</td>\n",
       "      <td>True</td>\n",
       "      <td>2</td>\n",
       "      <td>False</td>\n",
       "      <td>0</td>\n",
       "      <td>...</td>\n",
       "      <td>5.748312</td>\n",
       "      <td>3.651621289</td>\n",
       "      <td>75.27587691</td>\n",
       "      <td>3.9859077</td>\n",
       "      <td>95.38695493</td>\n",
       "      <td>6.646700255</td>\n",
       "      <td>4.97512</td>\n",
       "      <td>52.36103</td>\n",
       "      <td>Amsterdam</td>\n",
       "      <td>True</td>\n",
       "    </tr>\n",
       "    <tr>\n",
       "      <th>3</th>\n",
       "      <td>3</td>\n",
       "      <td>433.529398</td>\n",
       "      <td>1734.117592</td>\n",
       "      <td>108.382350</td>\n",
       "      <td>Private room</td>\n",
       "      <td>False</td>\n",
       "      <td>True</td>\n",
       "      <td>4</td>\n",
       "      <td>False</td>\n",
       "      <td>0</td>\n",
       "      <td>...</td>\n",
       "      <td>0.384862</td>\n",
       "      <td>0.439876076</td>\n",
       "      <td>493.2725344</td>\n",
       "      <td>26.11910845</td>\n",
       "      <td>875.0330976</td>\n",
       "      <td>60.97356517</td>\n",
       "      <td>4.89417</td>\n",
       "      <td>52.37663</td>\n",
       "      <td>Amsterdam</td>\n",
       "      <td>True</td>\n",
       "    </tr>\n",
       "    <tr>\n",
       "      <th>4</th>\n",
       "      <td>4</td>\n",
       "      <td>485.552926</td>\n",
       "      <td>971.105851</td>\n",
       "      <td>121.388231</td>\n",
       "      <td>Private room</td>\n",
       "      <td>False</td>\n",
       "      <td>True</td>\n",
       "      <td>2</td>\n",
       "      <td>True</td>\n",
       "      <td>0</td>\n",
       "      <td>...</td>\n",
       "      <td>0.544738</td>\n",
       "      <td>0.318692647</td>\n",
       "      <td>552.8303244</td>\n",
       "      <td>29.272733</td>\n",
       "      <td>815.30574</td>\n",
       "      <td>56.81167696</td>\n",
       "      <td>4.90051</td>\n",
       "      <td>52.37508</td>\n",
       "      <td>Amsterdam</td>\n",
       "      <td>True</td>\n",
       "    </tr>\n",
       "    <tr>\n",
       "      <th>5</th>\n",
       "      <td>5</td>\n",
       "      <td>552.808567</td>\n",
       "      <td>1658.425703</td>\n",
       "      <td>138.202142</td>\n",
       "      <td>Private room</td>\n",
       "      <td>False</td>\n",
       "      <td>True</td>\n",
       "      <td>3</td>\n",
       "      <td>False</td>\n",
       "      <td>0</td>\n",
       "      <td>...</td>\n",
       "      <td>2.131420</td>\n",
       "      <td>1.904668241</td>\n",
       "      <td>174.7889568</td>\n",
       "      <td>9.255191399</td>\n",
       "      <td>225.2016624</td>\n",
       "      <td>15.69237584</td>\n",
       "      <td>4.87699</td>\n",
       "      <td>52.38966</td>\n",
       "      <td>Amsterdam</td>\n",
       "      <td>True</td>\n",
       "    </tr>\n",
       "    <tr>\n",
       "      <th>6</th>\n",
       "      <td>6</td>\n",
       "      <td>215.124317</td>\n",
       "      <td>430.248635</td>\n",
       "      <td>53.781079</td>\n",
       "      <td>Private room</td>\n",
       "      <td>False</td>\n",
       "      <td>True</td>\n",
       "      <td>2</td>\n",
       "      <td>False</td>\n",
       "      <td>0</td>\n",
       "      <td>...</td>\n",
       "      <td>1.881092</td>\n",
       "      <td>0.729746739</td>\n",
       "      <td>200.1676516</td>\n",
       "      <td>10.59901016</td>\n",
       "      <td>242.7655237</td>\n",
       "      <td>16.91625096</td>\n",
       "      <td>4.9157</td>\n",
       "      <td>52.38296</td>\n",
       "      <td>Amsterdam</td>\n",
       "      <td>True</td>\n",
       "    </tr>\n",
       "    <tr>\n",
       "      <th>7</th>\n",
       "      <td>7</td>\n",
       "      <td>2771.307384</td>\n",
       "      <td>11085.229540</td>\n",
       "      <td>692.826846</td>\n",
       "      <td>Entire home/apt</td>\n",
       "      <td>False</td>\n",
       "      <td>False</td>\n",
       "      <td>4</td>\n",
       "      <td>True</td>\n",
       "      <td>0</td>\n",
       "      <td>...</td>\n",
       "      <td>1.686807</td>\n",
       "      <td>1.458403566</td>\n",
       "      <td>208.8081086</td>\n",
       "      <td>11.05652809</td>\n",
       "      <td>272.3138229</td>\n",
       "      <td>18.97521897</td>\n",
       "      <td>4.88467</td>\n",
       "      <td>52.38749</td>\n",
       "      <td>Amsterdam</td>\n",
       "      <td>True</td>\n",
       "    </tr>\n",
       "    <tr>\n",
       "      <th>8</th>\n",
       "      <td>8</td>\n",
       "      <td>1001.804420</td>\n",
       "      <td>4007.217680</td>\n",
       "      <td>250.451105</td>\n",
       "      <td>Entire home/apt</td>\n",
       "      <td>False</td>\n",
       "      <td>False</td>\n",
       "      <td>4</td>\n",
       "      <td>False</td>\n",
       "      <td>0</td>\n",
       "      <td>...</td>\n",
       "      <td>3.719141</td>\n",
       "      <td>1.196112353</td>\n",
       "      <td>106.2264562</td>\n",
       "      <td>5.624761439</td>\n",
       "      <td>133.8762019</td>\n",
       "      <td>9.328686362</td>\n",
       "      <td>4.86459</td>\n",
       "      <td>52.40175</td>\n",
       "      <td>Amsterdam</td>\n",
       "      <td>True</td>\n",
       "    </tr>\n",
       "    <tr>\n",
       "      <th>9</th>\n",
       "      <td>9</td>\n",
       "      <td>276.521454</td>\n",
       "      <td>553.042908</td>\n",
       "      <td>69.130363</td>\n",
       "      <td>Private room</td>\n",
       "      <td>False</td>\n",
       "      <td>True</td>\n",
       "      <td>2</td>\n",
       "      <td>False</td>\n",
       "      <td>1</td>\n",
       "      <td>...</td>\n",
       "      <td>3.142361</td>\n",
       "      <td>0.924404439</td>\n",
       "      <td>206.2528615</td>\n",
       "      <td>10.92122606</td>\n",
       "      <td>238.2912578</td>\n",
       "      <td>16.60447768</td>\n",
       "      <td>4.876</td>\n",
       "      <td>52.347</td>\n",
       "      <td>Amsterdam</td>\n",
       "      <td>True</td>\n",
       "    </tr>\n",
       "    <tr>\n",
       "      <th>10</th>\n",
       "      <td>10</td>\n",
       "      <td>909.474375</td>\n",
       "      <td>1818.948750</td>\n",
       "      <td>227.368594</td>\n",
       "      <td>Entire home/apt</td>\n",
       "      <td>False</td>\n",
       "      <td>False</td>\n",
       "      <td>2</td>\n",
       "      <td>False</td>\n",
       "      <td>0</td>\n",
       "      <td>...</td>\n",
       "      <td>1.009922</td>\n",
       "      <td>0.917115068</td>\n",
       "      <td>409.8581245</td>\n",
       "      <td>21.70226002</td>\n",
       "      <td>555.1142756</td>\n",
       "      <td>38.68116138</td>\n",
       "      <td>4.87956</td>\n",
       "      <td>52.36953</td>\n",
       "      <td>Amsterdam</td>\n",
       "      <td>True</td>\n",
       "    </tr>\n",
       "    <tr>\n",
       "      <th>11</th>\n",
       "      <td>11</td>\n",
       "      <td>319.640053</td>\n",
       "      <td>639.280107</td>\n",
       "      <td>79.910013</td>\n",
       "      <td>Private room</td>\n",
       "      <td>False</td>\n",
       "      <td>True</td>\n",
       "      <td>2</td>\n",
       "      <td>True</td>\n",
       "      <td>1</td>\n",
       "      <td>...</td>\n",
       "      <td>2.182707</td>\n",
       "      <td>1.590381363</td>\n",
       "      <td>191.5013392</td>\n",
       "      <td>10.14012315</td>\n",
       "      <td>229.2974006</td>\n",
       "      <td>15.97777277</td>\n",
       "      <td>4.92496</td>\n",
       "      <td>52.37107</td>\n",
       "      <td>Amsterdam</td>\n",
       "      <td>True</td>\n",
       "    </tr>\n",
       "    <tr>\n",
       "      <th>12</th>\n",
       "      <td>12</td>\n",
       "      <td>675.602840</td>\n",
       "      <td>2702.411361</td>\n",
       "      <td>168.900710</td>\n",
       "      <td>Entire home/apt</td>\n",
       "      <td>False</td>\n",
       "      <td>False</td>\n",
       "      <td>4</td>\n",
       "      <td>False</td>\n",
       "      <td>0</td>\n",
       "      <td>...</td>\n",
       "      <td>2.933046</td>\n",
       "      <td>0.628073047</td>\n",
       "      <td>214.9233419</td>\n",
       "      <td>11.38033376</td>\n",
       "      <td>269.624904</td>\n",
       "      <td>18.78785123</td>\n",
       "      <td>4.88934</td>\n",
       "      <td>52.34697</td>\n",
       "      <td>Amsterdam</td>\n",
       "      <td>True</td>\n",
       "    </tr>\n",
       "    <tr>\n",
       "      <th>13</th>\n",
       "      <td>13</td>\n",
       "      <td>552.808567</td>\n",
       "      <td>1105.617135</td>\n",
       "      <td>138.202142</td>\n",
       "      <td>Entire home/apt</td>\n",
       "      <td>False</td>\n",
       "      <td>False</td>\n",
       "      <td>2</td>\n",
       "      <td>True</td>\n",
       "      <td>0</td>\n",
       "      <td>...</td>\n",
       "      <td>1.305494</td>\n",
       "      <td>1.342162408</td>\n",
       "      <td>325.2559516</td>\n",
       "      <td>17.22251876</td>\n",
       "      <td>390.912052</td>\n",
       "      <td>27.2393142</td>\n",
       "      <td>4.87417</td>\n",
       "      <td>52.37509</td>\n",
       "      <td>Amsterdam</td>\n",
       "      <td>True</td>\n",
       "    </tr>\n",
       "    <tr>\n",
       "      <th>14</th>\n",
       "      <td>14</td>\n",
       "      <td>209.031472</td>\n",
       "      <td>418.062944</td>\n",
       "      <td>52.257868</td>\n",
       "      <td>Private room</td>\n",
       "      <td>False</td>\n",
       "      <td>True</td>\n",
       "      <td>2</td>\n",
       "      <td>False</td>\n",
       "      <td>1</td>\n",
       "      <td>...</td>\n",
       "      <td>7.304535</td>\n",
       "      <td>3.720813886</td>\n",
       "      <td>59.77618069</td>\n",
       "      <td>3.165188486</td>\n",
       "      <td>75.70105653</td>\n",
       "      <td>5.274958532</td>\n",
       "      <td>4.99679</td>\n",
       "      <td>52.35645</td>\n",
       "      <td>Amsterdam</td>\n",
       "      <td>True</td>\n",
       "    </tr>\n",
       "  </tbody>\n",
       "</table>\n",
       "<p>15 rows × 24 columns</p>\n",
       "</div>"
      ],
      "text/plain": [
       "    ID      realSum      dayPrice  dayPriceByPerson        room_type   \n",
       "0    0   194.033698    388.067396         48.508425     Private room  \\\n",
       "1    1   344.245776   1376.983104         86.061444     Private room   \n",
       "2    2   264.101422    528.202845         66.025356     Private room   \n",
       "3    3   433.529398   1734.117592        108.382350     Private room   \n",
       "4    4   485.552926    971.105851        121.388231     Private room   \n",
       "5    5   552.808567   1658.425703        138.202142     Private room   \n",
       "6    6   215.124317    430.248635         53.781079     Private room   \n",
       "7    7  2771.307384  11085.229540        692.826846  Entire home/apt   \n",
       "8    8  1001.804420   4007.217680        250.451105  Entire home/apt   \n",
       "9    9   276.521454    553.042908         69.130363     Private room   \n",
       "10  10   909.474375   1818.948750        227.368594  Entire home/apt   \n",
       "11  11   319.640053    639.280107         79.910013     Private room   \n",
       "12  12   675.602840   2702.411361        168.900710  Entire home/apt   \n",
       "13  13   552.808567   1105.617135        138.202142  Entire home/apt   \n",
       "14  14   209.031472    418.062944         52.257868     Private room   \n",
       "\n",
       "    room_shared  room_private  person_capacity  host_is_superhost  multi  ...   \n",
       "0         False          True                2              False      1  ...  \\\n",
       "1         False          True                4              False      0  ...   \n",
       "2         False          True                2              False      0  ...   \n",
       "3         False          True                4              False      0  ...   \n",
       "4         False          True                2               True      0  ...   \n",
       "5         False          True                3              False      0  ...   \n",
       "6         False          True                2              False      0  ...   \n",
       "7         False         False                4               True      0  ...   \n",
       "8         False         False                4              False      0  ...   \n",
       "9         False          True                2              False      1  ...   \n",
       "10        False         False                2              False      0  ...   \n",
       "11        False          True                2               True      1  ...   \n",
       "12        False         False                4              False      0  ...   \n",
       "13        False         False                2               True      0  ...   \n",
       "14        False          True                2              False      1  ...   \n",
       "\n",
       "        dist   metro_dist   attr_index  attr_index_norm   rest_index   \n",
       "0   5.022964  2.539380003  78.69037927      4.166707868  98.25389587  \\\n",
       "1   0.488389  0.239403923  631.1763783      33.42120862  837.2807567   \n",
       "2   5.748312  3.651621289  75.27587691        3.9859077  95.38695493   \n",
       "3   0.384862  0.439876076  493.2725344      26.11910845  875.0330976   \n",
       "4   0.544738  0.318692647  552.8303244        29.272733    815.30574   \n",
       "5   2.131420  1.904668241  174.7889568      9.255191399  225.2016624   \n",
       "6   1.881092  0.729746739  200.1676516      10.59901016  242.7655237   \n",
       "7   1.686807  1.458403566  208.8081086      11.05652809  272.3138229   \n",
       "8   3.719141  1.196112353  106.2264562      5.624761439  133.8762019   \n",
       "9   3.142361  0.924404439  206.2528615      10.92122606  238.2912578   \n",
       "10  1.009922  0.917115068  409.8581245      21.70226002  555.1142756   \n",
       "11  2.182707  1.590381363  191.5013392      10.14012315  229.2974006   \n",
       "12  2.933046  0.628073047  214.9233419      11.38033376   269.624904   \n",
       "13  1.305494  1.342162408  325.2559516      17.22251876   390.912052   \n",
       "14  7.304535  3.720813886  59.77618069      3.165188486  75.70105653   \n",
       "\n",
       "   rest_index_norm      lng       lat       city weekday  \n",
       "0      6.846472824  4.90569  52.41772  Amsterdam    True  \n",
       "1      58.34292774  4.90005  52.37432  Amsterdam    True  \n",
       "2      6.646700255  4.97512  52.36103  Amsterdam    True  \n",
       "3      60.97356517  4.89417  52.37663  Amsterdam    True  \n",
       "4      56.81167696  4.90051  52.37508  Amsterdam    True  \n",
       "5      15.69237584  4.87699  52.38966  Amsterdam    True  \n",
       "6      16.91625096   4.9157  52.38296  Amsterdam    True  \n",
       "7      18.97521897  4.88467  52.38749  Amsterdam    True  \n",
       "8      9.328686362  4.86459  52.40175  Amsterdam    True  \n",
       "9      16.60447768    4.876    52.347  Amsterdam    True  \n",
       "10     38.68116138  4.87956  52.36953  Amsterdam    True  \n",
       "11     15.97777277  4.92496  52.37107  Amsterdam    True  \n",
       "12     18.78785123  4.88934  52.34697  Amsterdam    True  \n",
       "13      27.2393142  4.87417  52.37509  Amsterdam    True  \n",
       "14     5.274958532  4.99679  52.35645  Amsterdam    True  \n",
       "\n",
       "[15 rows x 24 columns]"
      ]
     },
     "execution_count": 3,
     "metadata": {},
     "output_type": "execute_result"
    }
   ],
   "source": [
    "# Verifica la ruta y el delimitador del archivo CSV\n",
    "df = pd.read_csv('Alquileres.csv', engine='python', delimiter=\";\")\n",
    "df = df.replace(',', '.', regex=True)\n",
    "df['realSum']= df['realSum'].astype(float)\n",
    "df['dayPrice']= df['dayPrice'].astype(float)\n",
    "df['dayPriceByPerson']= df['dayPriceByPerson'].astype(float)\n",
    "df['dist']= df['dist'].astype(float)\n",
    "\n",
    "# Realiza las operaciones que necesites con el DataFrame\n",
    "df.head(15)"
   ]
  },
  {
   "cell_type": "code",
   "execution_count": 4,
   "metadata": {},
   "outputs": [
    {
     "name": "stdout",
     "output_type": "stream",
     "text": [
      "<class 'pandas.core.frame.DataFrame'>\n",
      "RangeIndex: 51707 entries, 0 to 51706\n",
      "Data columns (total 24 columns):\n",
      " #   Column                      Non-Null Count  Dtype  \n",
      "---  ------                      --------------  -----  \n",
      " 0   ID                          51707 non-null  int64  \n",
      " 1   realSum                     51707 non-null  float64\n",
      " 2   dayPrice                    51707 non-null  float64\n",
      " 3   dayPriceByPerson            51707 non-null  float64\n",
      " 4   room_type                   51707 non-null  object \n",
      " 5   room_shared                 51707 non-null  bool   \n",
      " 6   room_private                51707 non-null  bool   \n",
      " 7   person_capacity             51707 non-null  int64  \n",
      " 8   host_is_superhost           51707 non-null  bool   \n",
      " 9   multi                       51707 non-null  int64  \n",
      " 10  biz                         51707 non-null  int64  \n",
      " 11  cleanliness_rating          51707 non-null  int64  \n",
      " 12  guest_satisfaction_overall  51707 non-null  int64  \n",
      " 13  bedrooms                    51707 non-null  int64  \n",
      " 14  dist                        51707 non-null  float64\n",
      " 15  metro_dist                  51707 non-null  object \n",
      " 16  attr_index                  51707 non-null  object \n",
      " 17  attr_index_norm             51707 non-null  object \n",
      " 18  rest_index                  51707 non-null  object \n",
      " 19  rest_index_norm             51707 non-null  object \n",
      " 20  lng                         51707 non-null  object \n",
      " 21  lat                         51707 non-null  object \n",
      " 22  city                        51707 non-null  object \n",
      " 23  weekday                     51707 non-null  bool   \n",
      "dtypes: bool(4), float64(4), int64(7), object(9)\n",
      "memory usage: 8.1+ MB\n"
     ]
    }
   ],
   "source": [
    "df.info()"
   ]
  },
  {
   "cell_type": "code",
   "execution_count": 5,
   "metadata": {},
   "outputs": [
    {
     "data": {
      "text/html": [
       "<div>\n",
       "<style scoped>\n",
       "    .dataframe tbody tr th:only-of-type {\n",
       "        vertical-align: middle;\n",
       "    }\n",
       "\n",
       "    .dataframe tbody tr th {\n",
       "        vertical-align: top;\n",
       "    }\n",
       "\n",
       "    .dataframe thead th {\n",
       "        text-align: right;\n",
       "    }\n",
       "</style>\n",
       "<table border=\"1\" class=\"dataframe\">\n",
       "  <thead>\n",
       "    <tr style=\"text-align: right;\">\n",
       "      <th></th>\n",
       "      <th>ID</th>\n",
       "      <th>realSum</th>\n",
       "      <th>dayPrice</th>\n",
       "      <th>dayPriceByPerson</th>\n",
       "      <th>person_capacity</th>\n",
       "      <th>multi</th>\n",
       "      <th>biz</th>\n",
       "      <th>cleanliness_rating</th>\n",
       "      <th>guest_satisfaction_overall</th>\n",
       "      <th>bedrooms</th>\n",
       "      <th>dist</th>\n",
       "    </tr>\n",
       "  </thead>\n",
       "  <tbody>\n",
       "    <tr>\n",
       "      <th>count</th>\n",
       "      <td>51707.000000</td>\n",
       "      <td>51707.000000</td>\n",
       "      <td>51707.000000</td>\n",
       "      <td>51707.000000</td>\n",
       "      <td>51707.000000</td>\n",
       "      <td>51707.000000</td>\n",
       "      <td>51707.000000</td>\n",
       "      <td>51707.000000</td>\n",
       "      <td>51707.000000</td>\n",
       "      <td>51707.00000</td>\n",
       "      <td>51707.000000</td>\n",
       "    </tr>\n",
       "    <tr>\n",
       "      <th>mean</th>\n",
       "      <td>1620.502388</td>\n",
       "      <td>279.879591</td>\n",
       "      <td>971.364197</td>\n",
       "      <td>69.969898</td>\n",
       "      <td>3.161661</td>\n",
       "      <td>0.291353</td>\n",
       "      <td>0.350204</td>\n",
       "      <td>9.390624</td>\n",
       "      <td>92.628232</td>\n",
       "      <td>1.15876</td>\n",
       "      <td>3.191285</td>\n",
       "    </tr>\n",
       "    <tr>\n",
       "      <th>std</th>\n",
       "      <td>1217.380366</td>\n",
       "      <td>327.948386</td>\n",
       "      <td>1410.207733</td>\n",
       "      <td>81.987097</td>\n",
       "      <td>1.298545</td>\n",
       "      <td>0.454390</td>\n",
       "      <td>0.477038</td>\n",
       "      <td>0.954868</td>\n",
       "      <td>8.945531</td>\n",
       "      <td>0.62741</td>\n",
       "      <td>2.393803</td>\n",
       "    </tr>\n",
       "    <tr>\n",
       "      <th>min</th>\n",
       "      <td>0.000000</td>\n",
       "      <td>34.779339</td>\n",
       "      <td>69.558678</td>\n",
       "      <td>8.694835</td>\n",
       "      <td>2.000000</td>\n",
       "      <td>0.000000</td>\n",
       "      <td>0.000000</td>\n",
       "      <td>2.000000</td>\n",
       "      <td>20.000000</td>\n",
       "      <td>0.00000</td>\n",
       "      <td>0.015045</td>\n",
       "    </tr>\n",
       "    <tr>\n",
       "      <th>25%</th>\n",
       "      <td>646.000000</td>\n",
       "      <td>148.752174</td>\n",
       "      <td>360.779887</td>\n",
       "      <td>37.188043</td>\n",
       "      <td>2.000000</td>\n",
       "      <td>0.000000</td>\n",
       "      <td>0.000000</td>\n",
       "      <td>9.000000</td>\n",
       "      <td>90.000000</td>\n",
       "      <td>1.00000</td>\n",
       "      <td>1.453142</td>\n",
       "    </tr>\n",
       "    <tr>\n",
       "      <th>50%</th>\n",
       "      <td>1334.000000</td>\n",
       "      <td>211.343089</td>\n",
       "      <td>601.143018</td>\n",
       "      <td>52.835772</td>\n",
       "      <td>3.000000</td>\n",
       "      <td>0.000000</td>\n",
       "      <td>0.000000</td>\n",
       "      <td>10.000000</td>\n",
       "      <td>95.000000</td>\n",
       "      <td>1.00000</td>\n",
       "      <td>2.613538</td>\n",
       "    </tr>\n",
       "    <tr>\n",
       "      <th>75%</th>\n",
       "      <td>2382.000000</td>\n",
       "      <td>319.694286</td>\n",
       "      <td>1087.601992</td>\n",
       "      <td>79.923572</td>\n",
       "      <td>4.000000</td>\n",
       "      <td>1.000000</td>\n",
       "      <td>1.000000</td>\n",
       "      <td>10.000000</td>\n",
       "      <td>99.000000</td>\n",
       "      <td>1.00000</td>\n",
       "      <td>4.263077</td>\n",
       "    </tr>\n",
       "    <tr>\n",
       "      <th>max</th>\n",
       "      <td>5378.000000</td>\n",
       "      <td>18545.450280</td>\n",
       "      <td>77623.650600</td>\n",
       "      <td>4636.362570</td>\n",
       "      <td>6.000000</td>\n",
       "      <td>1.000000</td>\n",
       "      <td>1.000000</td>\n",
       "      <td>10.000000</td>\n",
       "      <td>100.000000</td>\n",
       "      <td>10.00000</td>\n",
       "      <td>25.284557</td>\n",
       "    </tr>\n",
       "  </tbody>\n",
       "</table>\n",
       "</div>"
      ],
      "text/plain": [
       "                 ID       realSum      dayPrice  dayPriceByPerson   \n",
       "count  51707.000000  51707.000000  51707.000000      51707.000000  \\\n",
       "mean    1620.502388    279.879591    971.364197         69.969898   \n",
       "std     1217.380366    327.948386   1410.207733         81.987097   \n",
       "min        0.000000     34.779339     69.558678          8.694835   \n",
       "25%      646.000000    148.752174    360.779887         37.188043   \n",
       "50%     1334.000000    211.343089    601.143018         52.835772   \n",
       "75%     2382.000000    319.694286   1087.601992         79.923572   \n",
       "max     5378.000000  18545.450280  77623.650600       4636.362570   \n",
       "\n",
       "       person_capacity         multi           biz  cleanliness_rating   \n",
       "count     51707.000000  51707.000000  51707.000000        51707.000000  \\\n",
       "mean          3.161661      0.291353      0.350204            9.390624   \n",
       "std           1.298545      0.454390      0.477038            0.954868   \n",
       "min           2.000000      0.000000      0.000000            2.000000   \n",
       "25%           2.000000      0.000000      0.000000            9.000000   \n",
       "50%           3.000000      0.000000      0.000000           10.000000   \n",
       "75%           4.000000      1.000000      1.000000           10.000000   \n",
       "max           6.000000      1.000000      1.000000           10.000000   \n",
       "\n",
       "       guest_satisfaction_overall     bedrooms          dist  \n",
       "count                51707.000000  51707.00000  51707.000000  \n",
       "mean                    92.628232      1.15876      3.191285  \n",
       "std                      8.945531      0.62741      2.393803  \n",
       "min                     20.000000      0.00000      0.015045  \n",
       "25%                     90.000000      1.00000      1.453142  \n",
       "50%                     95.000000      1.00000      2.613538  \n",
       "75%                     99.000000      1.00000      4.263077  \n",
       "max                    100.000000     10.00000     25.284557  "
      ]
     },
     "execution_count": 5,
     "metadata": {},
     "output_type": "execute_result"
    }
   ],
   "source": [
    "df.describe()"
   ]
  },
  {
   "attachments": {},
   "cell_type": "markdown",
   "metadata": {},
   "source": [
    "Utilizamos SeaBorn para analizar cantidades de cada tipo de habitacion y cantidad de superhost en el dataset"
   ]
  },
  {
   "cell_type": "code",
   "execution_count": 6,
   "metadata": {},
   "outputs": [
    {
     "data": {
      "text/plain": [
       "room_type\n",
       "Entire home/apt    32648\n",
       "Private room       18693\n",
       "Shared room          366\n",
       "dtype: int64"
      ]
     },
     "execution_count": 6,
     "metadata": {},
     "output_type": "execute_result"
    }
   ],
   "source": [
    "df.groupby(['room_type']).size()"
   ]
  },
  {
   "cell_type": "code",
   "execution_count": 7,
   "metadata": {},
   "outputs": [
    {
     "data": {
      "text/plain": [
       "host_is_superhost\n",
       "False    38475\n",
       "True     13232\n",
       "dtype: int64"
      ]
     },
     "execution_count": 7,
     "metadata": {},
     "output_type": "execute_result"
    }
   ],
   "source": [
    "df.groupby(['host_is_superhost']).size()"
   ]
  },
  {
   "attachments": {},
   "cell_type": "markdown",
   "metadata": {},
   "source": [
    "Observamos la proporcion de cada tipo de habitacion y dentro de cada una la cantidad de superhost"
   ]
  },
  {
   "cell_type": "code",
   "execution_count": 8,
   "metadata": {},
   "outputs": [
    {
     "data": {
      "image/png": "[encoded data removed]",
      "text/plain": [
       "<Figure size 640x480 with 1 Axes>"
      ]
     },
     "metadata": {},
     "output_type": "display_data"
    }
   ],
   "source": [
    "#sns.set(style='darkgrid')\n",
    "sns.countplot(x='room_type',data=df,hue='host_is_superhost')\n",
    "plt.show()"
   ]
  },
  {
   "attachments": {},
   "cell_type": "markdown",
   "metadata": {},
   "source": [
    "Analizamos la distribucion de los precios por persona"
   ]
  },
  {
   "cell_type": "code",
   "execution_count": 9,
   "metadata": {},
   "outputs": [
    {
     "data": {
      "text/plain": [
       "<Figure size 1000x1000 with 0 Axes>"
      ]
     },
     "metadata": {},
     "output_type": "display_data"
    },
    {
     "data": {
      "image/png": "[encoded data removed]",
      "text/plain": [
       "<Figure size 500x500 with 1 Axes>"
      ]
     },
     "metadata": {},
     "output_type": "display_data"
    }
   ],
   "source": [
    "fig = plt.figure(figsize=(10,10))\n",
    "sns.displot(df['dayPriceByPerson'])\n",
    "plt.xlim(left=0, right=1000)  # Establecer los límites del eje x\n",
    "plt.ylim(bottom=0, top=2200)  # Establecer los límites del eje y\n",
    "plt.show()"
   ]
  },
  {
   "cell_type": "code",
   "execution_count": 10,
   "metadata": {},
   "outputs": [
    {
     "data": {
      "image/png": "[encoded data removed]",
      "text/plain": [
       "<Figure size 1000x1000 with 1 Axes>"
      ]
     },
     "metadata": {},
     "output_type": "display_data"
    }
   ],
   "source": [
    "fig = plt.figure(figsize=(10,10))\n",
    "sns.histplot(df['dayPriceByPerson'], bins=100, kde=True)\n",
    "plt.show()"
   ]
  },
  {
   "attachments": {},
   "cell_type": "markdown",
   "metadata": {},
   "source": [
    "Analizando el promedio de precios por dia por persona en cada ciudad"
   ]
  },
  {
   "cell_type": "code",
   "execution_count": 11,
   "metadata": {},
   "outputs": [
    {
     "data": {
      "text/plain": [
       "Text(0.5, 1.0, 'Promedio de Precios por Ciudad')"
      ]
     },
     "execution_count": 11,
     "metadata": {},
     "output_type": "execute_result"
    },
    {
     "data": {
      "image/png": "[encoded data removed]",
      "text/plain": [
       "<Figure size 1000x600 with 1 Axes>"
      ]
     },
     "metadata": {},
     "output_type": "display_data"
    }
   ],
   "source": [
    "# Calcular el promedio de precios por ciudad\n",
    "promedios = df.groupby('city')['dayPriceByPerson'].mean().sort_values(ascending=False)\n",
    "\n",
    "# Crear el gráfico de barras con los promedios de precios\n",
    "fig, ax = plt.subplots(figsize=(10, 6))\n",
    "promedios.plot(kind='bar', ax=ax)\n",
    "\n",
    "# Personalizar el gráfico\n",
    "ax.set_xlabel('Ciudad')\n",
    "ax.set_ylabel('Precio Promedio por persona')\n",
    "ax.set_title('Promedio de Precios por Ciudad')"
   ]
  },
  {
   "attachments": {},
   "cell_type": "markdown",
   "metadata": {},
   "source": [
    "Analizando la relacion entre las variables de limpieza y valoracion final"
   ]
  },
  {
   "cell_type": "code",
   "execution_count": 12,
   "metadata": {},
   "outputs": [
    {
     "data": {
      "text/plain": [
       "Text(0.1, 0.9, 'Coef. Corr.: 0.71')"
      ]
     },
     "execution_count": 12,
     "metadata": {},
     "output_type": "execute_result"
    },
    {
     "data": {
      "image/png": "[encoded data removed]",
      "text/plain": [
       "<Figure size 500x500 with 1 Axes>"
      ]
     },
     "metadata": {},
     "output_type": "display_data"
    }
   ],
   "source": [
    "sns.set_theme(style='ticks')\n",
    "sns.lmplot(\n",
    "    data = df, x = 'cleanliness_rating', y='guest_satisfaction_overall'\n",
    ")\n",
    "\n",
    "coef_corr = df['cleanliness_rating'].corr(df['guest_satisfaction_overall'])\n",
    "\n",
    "plt.xlabel('valoración de limpieza')\n",
    "plt.ylabel('satisfaccion del inquilino')\n",
    "plt.title('Relacion entre satisfaccion y limpieza')\n",
    "\n",
    "plt.annotate(f'Coef. Corr.: {coef_corr:.2f}', xy=(0.1, 0.9), xycoords='axes fraction')"
   ]
  },
  {
   "cell_type": "code",
   "execution_count": 13,
   "metadata": {},
   "outputs": [
    {
     "name": "stderr",
     "output_type": "stream",
     "text": [
      "C:\\Users\\Fede\\AppData\\Local\\Temp\\ipykernel_3676\\2488847738.py:1: FutureWarning: \n",
      "\n",
      "`shade` is now deprecated in favor of `fill`; setting `fill=True`.\n",
      "This will become an error in seaborn v0.14.0; please update your code.\n",
      "\n",
      "  sns.kdeplot(x=df['cleanliness_rating'], y=df['guest_satisfaction_overall'], cmap='inferno', shade=True)\n"
     ]
    },
    {
     "ename": "KeyboardInterrupt",
     "evalue": "",
     "output_type": "error",
     "traceback": [
      "\u001b[1;31m---------------------------------------------------------------------------\u001b[0m",
      "\u001b[1;31mKeyboardInterrupt\u001b[0m                         Traceback (most recent call last)",
      "Cell \u001b[1;32mIn[13], line 1\u001b[0m\n\u001b[1;32m----> 1\u001b[0m sns\u001b[39m.\u001b[39;49mkdeplot(x\u001b[39m=\u001b[39;49mdf[\u001b[39m'\u001b[39;49m\u001b[39mcleanliness_rating\u001b[39;49m\u001b[39m'\u001b[39;49m], y\u001b[39m=\u001b[39;49mdf[\u001b[39m'\u001b[39;49m\u001b[39mguest_satisfaction_overall\u001b[39;49m\u001b[39m'\u001b[39;49m], cmap\u001b[39m=\u001b[39;49m\u001b[39m'\u001b[39;49m\u001b[39minferno\u001b[39;49m\u001b[39m'\u001b[39;49m, shade\u001b[39m=\u001b[39;49m\u001b[39mTrue\u001b[39;49;00m)\n\u001b[0;32m      3\u001b[0m \u001b[39m# Personalizar el gráfico\u001b[39;00m\n\u001b[0;32m      4\u001b[0m plt\u001b[39m.\u001b[39mxlabel(\u001b[39m'\u001b[39m\u001b[39mcleanliness_rating\u001b[39m\u001b[39m'\u001b[39m)\n",
      "File \u001b[1;32mc:\\Python311\\Lib\\site-packages\\seaborn\\distributions.py:1731\u001b[0m, in \u001b[0;36mkdeplot\u001b[1;34m(data, x, y, hue, weights, palette, hue_order, hue_norm, color, fill, multiple, common_norm, common_grid, cumulative, bw_method, bw_adjust, warn_singular, log_scale, levels, thresh, gridsize, cut, clip, legend, cbar, cbar_ax, cbar_kws, ax, **kwargs)\u001b[0m\n\u001b[0;32m   1717\u001b[0m     p\u001b[39m.\u001b[39mplot_univariate_density(\n\u001b[0;32m   1718\u001b[0m         multiple\u001b[39m=\u001b[39mmultiple,\n\u001b[0;32m   1719\u001b[0m         common_norm\u001b[39m=\u001b[39mcommon_norm,\n\u001b[1;32m   (...)\u001b[0m\n\u001b[0;32m   1726\u001b[0m         \u001b[39m*\u001b[39m\u001b[39m*\u001b[39mplot_kws,\n\u001b[0;32m   1727\u001b[0m     )\n\u001b[0;32m   1729\u001b[0m \u001b[39melse\u001b[39;00m:\n\u001b[1;32m-> 1731\u001b[0m     p\u001b[39m.\u001b[39;49mplot_bivariate_density(\n\u001b[0;32m   1732\u001b[0m         common_norm\u001b[39m=\u001b[39;49mcommon_norm,\n\u001b[0;32m   1733\u001b[0m         fill\u001b[39m=\u001b[39;49mfill,\n\u001b[0;32m   1734\u001b[0m         levels\u001b[39m=\u001b[39;49mlevels,\n\u001b[0;32m   1735\u001b[0m         thresh\u001b[39m=\u001b[39;49mthresh,\n\u001b[0;32m   1736\u001b[0m         legend\u001b[39m=\u001b[39;49mlegend,\n\u001b[0;32m   1737\u001b[0m         color\u001b[39m=\u001b[39;49mcolor,\n\u001b[0;32m   1738\u001b[0m         warn_singular\u001b[39m=\u001b[39;49mwarn_singular,\n\u001b[0;32m   1739\u001b[0m         cbar\u001b[39m=\u001b[39;49mcbar,\n\u001b[0;32m   1740\u001b[0m         cbar_ax\u001b[39m=\u001b[39;49mcbar_ax,\n\u001b[0;32m   1741\u001b[0m         cbar_kws\u001b[39m=\u001b[39;49mcbar_kws,\n\u001b[0;32m   1742\u001b[0m         estimate_kws\u001b[39m=\u001b[39;49mestimate_kws,\n\u001b[0;32m   1743\u001b[0m         \u001b[39m*\u001b[39;49m\u001b[39m*\u001b[39;49mkwargs,\n\u001b[0;32m   1744\u001b[0m     )\n\u001b[0;32m   1746\u001b[0m \u001b[39mreturn\u001b[39;00m ax\n",
      "File \u001b[1;32mc:\\Python311\\Lib\\site-packages\\seaborn\\distributions.py:1081\u001b[0m, in \u001b[0;36m_DistributionPlotter.plot_bivariate_density\u001b[1;34m(self, common_norm, fill, levels, thresh, color, legend, cbar, warn_singular, cbar_ax, cbar_kws, estimate_kws, **contour_kws)\u001b[0m\n\u001b[0;32m   1079\u001b[0m \u001b[39mtry\u001b[39;00m:\n\u001b[0;32m   1080\u001b[0m     \u001b[39mif\u001b[39;00m \u001b[39mnot\u001b[39;00m singular:\n\u001b[1;32m-> 1081\u001b[0m         density, support \u001b[39m=\u001b[39m estimator(\u001b[39m*\u001b[39;49mobservations, weights\u001b[39m=\u001b[39;49mweights)\n\u001b[0;32m   1082\u001b[0m \u001b[39mexcept\u001b[39;00m np\u001b[39m.\u001b[39mlinalg\u001b[39m.\u001b[39mLinAlgError:\n\u001b[0;32m   1083\u001b[0m     \u001b[39m# Testing for 0 variance doesn't catch all cases where scipy raises,\u001b[39;00m\n\u001b[0;32m   1084\u001b[0m     \u001b[39m# but we can also get a ValueError, so we need this convoluted approach\u001b[39;00m\n\u001b[0;32m   1085\u001b[0m     singular \u001b[39m=\u001b[39m \u001b[39mTrue\u001b[39;00m\n",
      "File \u001b[1;32mc:\\Python311\\Lib\\site-packages\\seaborn\\_statistics.py:194\u001b[0m, in \u001b[0;36mKDE.__call__\u001b[1;34m(self, x1, x2, weights)\u001b[0m\n\u001b[0;32m    192\u001b[0m     \u001b[39mreturn\u001b[39;00m \u001b[39mself\u001b[39m\u001b[39m.\u001b[39m_eval_univariate(x1, weights)\n\u001b[0;32m    193\u001b[0m \u001b[39melse\u001b[39;00m:\n\u001b[1;32m--> 194\u001b[0m     \u001b[39mreturn\u001b[39;00m \u001b[39mself\u001b[39;49m\u001b[39m.\u001b[39;49m_eval_bivariate(x1, x2, weights)\n",
      "File \u001b[1;32mc:\\Python311\\Lib\\site-packages\\seaborn\\_statistics.py:185\u001b[0m, in \u001b[0;36mKDE._eval_bivariate\u001b[1;34m(self, x1, x2, weights)\u001b[0m\n\u001b[0;32m    182\u001b[0m \u001b[39melse\u001b[39;00m:\n\u001b[0;32m    184\u001b[0m     xx1, xx2 \u001b[39m=\u001b[39m np\u001b[39m.\u001b[39mmeshgrid(\u001b[39m*\u001b[39msupport)\n\u001b[1;32m--> 185\u001b[0m     density \u001b[39m=\u001b[39m kde([xx1\u001b[39m.\u001b[39;49mravel(), xx2\u001b[39m.\u001b[39;49mravel()])\u001b[39m.\u001b[39mreshape(xx1\u001b[39m.\u001b[39mshape)\n\u001b[0;32m    187\u001b[0m \u001b[39mreturn\u001b[39;00m density, support\n",
      "File \u001b[1;32mc:\\Python311\\Lib\\site-packages\\seaborn\\external\\kde.py:261\u001b[0m, in \u001b[0;36mgaussian_kde.evaluate\u001b[1;34m(self, points)\u001b[0m\n\u001b[0;32m    259\u001b[0m     \u001b[39mfor\u001b[39;00m i \u001b[39min\u001b[39;00m \u001b[39mrange\u001b[39m(m):\n\u001b[0;32m    260\u001b[0m         diff \u001b[39m=\u001b[39m scaled_dataset \u001b[39m-\u001b[39m scaled_points[:, i, newaxis]\n\u001b[1;32m--> 261\u001b[0m         energy \u001b[39m=\u001b[39m \u001b[39msum\u001b[39;49m(diff \u001b[39m*\u001b[39;49m diff, axis\u001b[39m=\u001b[39;49m\u001b[39m0\u001b[39;49m) \u001b[39m/\u001b[39m \u001b[39m2.0\u001b[39m\n\u001b[0;32m    262\u001b[0m         result[i] \u001b[39m=\u001b[39m \u001b[39msum\u001b[39m(exp(\u001b[39m-\u001b[39menergy)\u001b[39m*\u001b[39m\u001b[39mself\u001b[39m\u001b[39m.\u001b[39mweights, axis\u001b[39m=\u001b[39m\u001b[39m0\u001b[39m)\n\u001b[0;32m    264\u001b[0m result \u001b[39m=\u001b[39m result \u001b[39m/\u001b[39m \u001b[39mself\u001b[39m\u001b[39m.\u001b[39m_norm_factor\n",
      "File \u001b[1;32m<__array_function__ internals>:200\u001b[0m, in \u001b[0;36msum\u001b[1;34m(*args, **kwargs)\u001b[0m\n",
      "File \u001b[1;32mc:\\Python311\\Lib\\site-packages\\numpy\\core\\fromnumeric.py:2324\u001b[0m, in \u001b[0;36msum\u001b[1;34m(a, axis, dtype, out, keepdims, initial, where)\u001b[0m\n\u001b[0;32m   2321\u001b[0m         \u001b[39mreturn\u001b[39;00m out\n\u001b[0;32m   2322\u001b[0m     \u001b[39mreturn\u001b[39;00m res\n\u001b[1;32m-> 2324\u001b[0m \u001b[39mreturn\u001b[39;00m _wrapreduction(a, np\u001b[39m.\u001b[39;49madd, \u001b[39m'\u001b[39;49m\u001b[39msum\u001b[39;49m\u001b[39m'\u001b[39;49m, axis, dtype, out, keepdims\u001b[39m=\u001b[39;49mkeepdims,\n\u001b[0;32m   2325\u001b[0m                       initial\u001b[39m=\u001b[39;49minitial, where\u001b[39m=\u001b[39;49mwhere)\n",
      "File \u001b[1;32mc:\\Python311\\Lib\\site-packages\\numpy\\core\\fromnumeric.py:86\u001b[0m, in \u001b[0;36m_wrapreduction\u001b[1;34m(obj, ufunc, method, axis, dtype, out, **kwargs)\u001b[0m\n\u001b[0;32m     83\u001b[0m         \u001b[39melse\u001b[39;00m:\n\u001b[0;32m     84\u001b[0m             \u001b[39mreturn\u001b[39;00m reduction(axis\u001b[39m=\u001b[39maxis, out\u001b[39m=\u001b[39mout, \u001b[39m*\u001b[39m\u001b[39m*\u001b[39mpasskwargs)\n\u001b[1;32m---> 86\u001b[0m \u001b[39mreturn\u001b[39;00m ufunc\u001b[39m.\u001b[39;49mreduce(obj, axis, dtype, out, \u001b[39m*\u001b[39;49m\u001b[39m*\u001b[39;49mpasskwargs)\n",
      "\u001b[1;31mKeyboardInterrupt\u001b[0m: "
     ]
    },
    {
     "data": {
      "image/png": "[encoded data removed]",
      "text/plain": [
       "<Figure size 640x480 with 1 Axes>"
      ]
     },
     "metadata": {},
     "output_type": "display_data"
    }
   ],
   "source": [
    "sns.kdeplot(x=df['cleanliness_rating'], y=df['guest_satisfaction_overall'], cmap='inferno', shade=True)\n",
    "\n",
    "# Personalizar el gráfico\n",
    "plt.xlabel('cleanliness_rating')\n",
    "plt.ylabel('guest_satisfaction_overall')\n",
    "plt.title('Gráfico de Dispersión por Densidad de Puntos')\n",
    "\n",
    "plt.show()"
   ]
  },
  {
   "attachments": {},
   "cell_type": "markdown",
   "metadata": {},
   "source": [
    "## Modelo de Predicción\n",
    "### Dividisión de variable a predecir del resto del dataset"
   ]
  },
  {
   "cell_type": "code",
   "execution_count": 14,
   "metadata": {},
   "outputs": [
    {
     "name": "stdout",
     "output_type": "stream",
     "text": [
      "Index(['ID', 'realSum', 'dayPrice', 'dayPriceByPerson', 'person_capacity',\n",
      "       'multi', 'biz', 'cleanliness_rating', 'guest_satisfaction_overall',\n",
      "       'bedrooms', 'dist'],\n",
      "      dtype='object')\n"
     ]
    }
   ],
   "source": [
    "columnas_numericas = df.select_dtypes(include=[float, int]).columns\n",
    "# Crea el nuevo dataframe con las columnas numéricas\n",
    "X = df[columnas_numericas].copy()\n",
    "print(X.columns)\n",
    "\n",
    "y = df.iloc[:, 1].values #columna realSum\n",
    "X_train, X_test, y_train, y_test = train_test_split(X, y, test_size=0.2, random_state=42)"
   ]
  },
  {
   "cell_type": "code",
   "execution_count": 15,
   "metadata": {},
   "outputs": [
    {
     "data": {
      "text/html": [
       "<div>\n",
       "<style scoped>\n",
       "    .dataframe tbody tr th:only-of-type {\n",
       "        vertical-align: middle;\n",
       "    }\n",
       "\n",
       "    .dataframe tbody tr th {\n",
       "        vertical-align: top;\n",
       "    }\n",
       "\n",
       "    .dataframe thead th {\n",
       "        text-align: right;\n",
       "    }\n",
       "</style>\n",
       "<table border=\"1\" class=\"dataframe\">\n",
       "  <thead>\n",
       "    <tr style=\"text-align: right;\">\n",
       "      <th></th>\n",
       "      <th>ID</th>\n",
       "      <th>realSum</th>\n",
       "      <th>dayPrice</th>\n",
       "      <th>dayPriceByPerson</th>\n",
       "      <th>person_capacity</th>\n",
       "      <th>multi</th>\n",
       "      <th>biz</th>\n",
       "      <th>cleanliness_rating</th>\n",
       "      <th>guest_satisfaction_overall</th>\n",
       "      <th>bedrooms</th>\n",
       "      <th>dist</th>\n",
       "    </tr>\n",
       "  </thead>\n",
       "  <tbody>\n",
       "    <tr>\n",
       "      <th>0</th>\n",
       "      <td>0</td>\n",
       "      <td>194.033698</td>\n",
       "      <td>388.067396</td>\n",
       "      <td>48.508425</td>\n",
       "      <td>2</td>\n",
       "      <td>1</td>\n",
       "      <td>0</td>\n",
       "      <td>10</td>\n",
       "      <td>93</td>\n",
       "      <td>1</td>\n",
       "      <td>5.022964</td>\n",
       "    </tr>\n",
       "    <tr>\n",
       "      <th>1</th>\n",
       "      <td>1</td>\n",
       "      <td>344.245776</td>\n",
       "      <td>1376.983104</td>\n",
       "      <td>86.061444</td>\n",
       "      <td>4</td>\n",
       "      <td>0</td>\n",
       "      <td>0</td>\n",
       "      <td>8</td>\n",
       "      <td>85</td>\n",
       "      <td>1</td>\n",
       "      <td>0.488389</td>\n",
       "    </tr>\n",
       "    <tr>\n",
       "      <th>2</th>\n",
       "      <td>2</td>\n",
       "      <td>264.101422</td>\n",
       "      <td>528.202845</td>\n",
       "      <td>66.025356</td>\n",
       "      <td>2</td>\n",
       "      <td>0</td>\n",
       "      <td>1</td>\n",
       "      <td>9</td>\n",
       "      <td>87</td>\n",
       "      <td>1</td>\n",
       "      <td>5.748312</td>\n",
       "    </tr>\n",
       "    <tr>\n",
       "      <th>3</th>\n",
       "      <td>3</td>\n",
       "      <td>433.529398</td>\n",
       "      <td>1734.117592</td>\n",
       "      <td>108.382350</td>\n",
       "      <td>4</td>\n",
       "      <td>0</td>\n",
       "      <td>1</td>\n",
       "      <td>9</td>\n",
       "      <td>90</td>\n",
       "      <td>2</td>\n",
       "      <td>0.384862</td>\n",
       "    </tr>\n",
       "    <tr>\n",
       "      <th>4</th>\n",
       "      <td>4</td>\n",
       "      <td>485.552926</td>\n",
       "      <td>971.105851</td>\n",
       "      <td>121.388231</td>\n",
       "      <td>2</td>\n",
       "      <td>0</td>\n",
       "      <td>0</td>\n",
       "      <td>10</td>\n",
       "      <td>98</td>\n",
       "      <td>1</td>\n",
       "      <td>0.544738</td>\n",
       "    </tr>\n",
       "    <tr>\n",
       "      <th>...</th>\n",
       "      <td>...</td>\n",
       "      <td>...</td>\n",
       "      <td>...</td>\n",
       "      <td>...</td>\n",
       "      <td>...</td>\n",
       "      <td>...</td>\n",
       "      <td>...</td>\n",
       "      <td>...</td>\n",
       "      <td>...</td>\n",
       "      <td>...</td>\n",
       "      <td>...</td>\n",
       "    </tr>\n",
       "    <tr>\n",
       "      <th>51702</th>\n",
       "      <td>1794</td>\n",
       "      <td>715.938574</td>\n",
       "      <td>4295.631442</td>\n",
       "      <td>178.984643</td>\n",
       "      <td>6</td>\n",
       "      <td>0</td>\n",
       "      <td>1</td>\n",
       "      <td>10</td>\n",
       "      <td>100</td>\n",
       "      <td>3</td>\n",
       "      <td>0.530181</td>\n",
       "    </tr>\n",
       "    <tr>\n",
       "      <th>51703</th>\n",
       "      <td>1795</td>\n",
       "      <td>304.793960</td>\n",
       "      <td>609.587920</td>\n",
       "      <td>76.198490</td>\n",
       "      <td>2</td>\n",
       "      <td>0</td>\n",
       "      <td>0</td>\n",
       "      <td>8</td>\n",
       "      <td>86</td>\n",
       "      <td>1</td>\n",
       "      <td>0.810205</td>\n",
       "    </tr>\n",
       "    <tr>\n",
       "      <th>51704</th>\n",
       "      <td>1796</td>\n",
       "      <td>637.168969</td>\n",
       "      <td>1274.337938</td>\n",
       "      <td>159.292242</td>\n",
       "      <td>2</td>\n",
       "      <td>0</td>\n",
       "      <td>0</td>\n",
       "      <td>10</td>\n",
       "      <td>93</td>\n",
       "      <td>1</td>\n",
       "      <td>0.994051</td>\n",
       "    </tr>\n",
       "    <tr>\n",
       "      <th>51705</th>\n",
       "      <td>1797</td>\n",
       "      <td>301.054157</td>\n",
       "      <td>602.108314</td>\n",
       "      <td>75.263539</td>\n",
       "      <td>2</td>\n",
       "      <td>0</td>\n",
       "      <td>0</td>\n",
       "      <td>10</td>\n",
       "      <td>87</td>\n",
       "      <td>1</td>\n",
       "      <td>3.044100</td>\n",
       "    </tr>\n",
       "    <tr>\n",
       "      <th>51706</th>\n",
       "      <td>1798</td>\n",
       "      <td>133.230489</td>\n",
       "      <td>532.921955</td>\n",
       "      <td>33.307622</td>\n",
       "      <td>4</td>\n",
       "      <td>1</td>\n",
       "      <td>0</td>\n",
       "      <td>10</td>\n",
       "      <td>93</td>\n",
       "      <td>1</td>\n",
       "      <td>1.263932</td>\n",
       "    </tr>\n",
       "  </tbody>\n",
       "</table>\n",
       "<p>51707 rows × 11 columns</p>\n",
       "</div>"
      ],
      "text/plain": [
       "         ID     realSum     dayPrice  dayPriceByPerson  person_capacity   \n",
       "0         0  194.033698   388.067396         48.508425                2  \\\n",
       "1         1  344.245776  1376.983104         86.061444                4   \n",
       "2         2  264.101422   528.202845         66.025356                2   \n",
       "3         3  433.529398  1734.117592        108.382350                4   \n",
       "4         4  485.552926   971.105851        121.388231                2   \n",
       "...     ...         ...          ...               ...              ...   \n",
       "51702  1794  715.938574  4295.631442        178.984643                6   \n",
       "51703  1795  304.793960   609.587920         76.198490                2   \n",
       "51704  1796  637.168969  1274.337938        159.292242                2   \n",
       "51705  1797  301.054157   602.108314         75.263539                2   \n",
       "51706  1798  133.230489   532.921955         33.307622                4   \n",
       "\n",
       "       multi  biz  cleanliness_rating  guest_satisfaction_overall  bedrooms   \n",
       "0          1    0                  10                          93         1  \\\n",
       "1          0    0                   8                          85         1   \n",
       "2          0    1                   9                          87         1   \n",
       "3          0    1                   9                          90         2   \n",
       "4          0    0                  10                          98         1   \n",
       "...      ...  ...                 ...                         ...       ...   \n",
       "51702      0    1                  10                         100         3   \n",
       "51703      0    0                   8                          86         1   \n",
       "51704      0    0                  10                          93         1   \n",
       "51705      0    0                  10                          87         1   \n",
       "51706      1    0                  10                          93         1   \n",
       "\n",
       "           dist  \n",
       "0      5.022964  \n",
       "1      0.488389  \n",
       "2      5.748312  \n",
       "3      0.384862  \n",
       "4      0.544738  \n",
       "...         ...  \n",
       "51702  0.530181  \n",
       "51703  0.810205  \n",
       "51704  0.994051  \n",
       "51705  3.044100  \n",
       "51706  1.263932  \n",
       "\n",
       "[51707 rows x 11 columns]"
      ]
     },
     "execution_count": 15,
     "metadata": {},
     "output_type": "execute_result"
    }
   ],
   "source": [
    "X"
   ]
  },
  {
   "cell_type": "code",
   "execution_count": 16,
   "metadata": {},
   "outputs": [
    {
     "data": {
      "text/plain": [
       "array([194.0336981, 344.245776 , 264.1014224, ..., 637.168969 ,\n",
       "       301.054157 , 133.2304887])"
      ]
     },
     "execution_count": 16,
     "metadata": {},
     "output_type": "execute_result"
    }
   ],
   "source": [
    "y"
   ]
  },
  {
   "attachments": {},
   "cell_type": "markdown",
   "metadata": {},
   "source": [
    "###  Entrenamiento del modelo de Regresión Lineal con el dataset de Training"
   ]
  },
  {
   "cell_type": "code",
   "execution_count": 23,
   "metadata": {},
   "outputs": [
    {
     "data": {
      "text/html": [
       "<style>#sk-container-id-1 {color: black;background-color: white;}#sk-container-id-1 pre{padding: 0;}#sk-container-id-1 div.sk-toggleable {background-color: white;}#sk-container-id-1 label.sk-toggleable__label {cursor: pointer;display: block;width: 100%;margin-bottom: 0;padding: 0.3em;box-sizing: border-box;text-align: center;}#sk-container-id-1 label.sk-toggleable__label-arrow:before {content: \"▸\";float: left;margin-right: 0.25em;color: #696969;}#sk-container-id-1 label.sk-toggleable__label-arrow:hover:before {color: black;}#sk-container-id-1 div.sk-estimator:hover label.sk-toggleable__label-arrow:before {color: black;}#sk-container-id-1 div.sk-toggleable__content {max-height: 0;max-width: 0;overflow: hidden;text-align: left;background-color: #f0f8ff;}#sk-container-id-1 div.sk-toggleable__content pre {margin: 0.2em;color: black;border-radius: 0.25em;background-color: #f0f8ff;}#sk-container-id-1 input.sk-toggleable__control:checked~div.sk-toggleable__content {max-height: 200px;max-width: 100%;overflow: auto;}#sk-container-id-1 input.sk-toggleable__control:checked~label.sk-toggleable__label-arrow:before {content: \"▾\";}#sk-container-id-1 div.sk-estimator input.sk-toggleable__control:checked~label.sk-toggleable__label {background-color: #d4ebff;}#sk-container-id-1 div.sk-label input.sk-toggleable__control:checked~label.sk-toggleable__label {background-color: #d4ebff;}#sk-container-id-1 input.sk-hidden--visually {border: 0;clip: rect(1px 1px 1px 1px);clip: rect(1px, 1px, 1px, 1px);height: 1px;margin: -1px;overflow: hidden;padding: 0;position: absolute;width: 1px;}#sk-container-id-1 div.sk-estimator {font-family: monospace;background-color: #f0f8ff;border: 1px dotted black;border-radius: 0.25em;box-sizing: border-box;margin-bottom: 0.5em;}#sk-container-id-1 div.sk-estimator:hover {background-color: #d4ebff;}#sk-container-id-1 div.sk-parallel-item::after {content: \"\";width: 100%;border-bottom: 1px solid gray;flex-grow: 1;}#sk-container-id-1 div.sk-label:hover label.sk-toggleable__label {background-color: #d4ebff;}#sk-container-id-1 div.sk-serial::before {content: \"\";position: absolute;border-left: 1px solid gray;box-sizing: border-box;top: 0;bottom: 0;left: 50%;z-index: 0;}#sk-container-id-1 div.sk-serial {display: flex;flex-direction: column;align-items: center;background-color: white;padding-right: 0.2em;padding-left: 0.2em;position: relative;}#sk-container-id-1 div.sk-item {position: relative;z-index: 1;}#sk-container-id-1 div.sk-parallel {display: flex;align-items: stretch;justify-content: center;background-color: white;position: relative;}#sk-container-id-1 div.sk-item::before, #sk-container-id-1 div.sk-parallel-item::before {content: \"\";position: absolute;border-left: 1px solid gray;box-sizing: border-box;top: 0;bottom: 0;left: 50%;z-index: -1;}#sk-container-id-1 div.sk-parallel-item {display: flex;flex-direction: column;z-index: 1;position: relative;background-color: white;}#sk-container-id-1 div.sk-parallel-item:first-child::after {align-self: flex-end;width: 50%;}#sk-container-id-1 div.sk-parallel-item:last-child::after {align-self: flex-start;width: 50%;}#sk-container-id-1 div.sk-parallel-item:only-child::after {width: 0;}#sk-container-id-1 div.sk-dashed-wrapped {border: 1px dashed gray;margin: 0 0.4em 0.5em 0.4em;box-sizing: border-box;padding-bottom: 0.4em;background-color: white;}#sk-container-id-1 div.sk-label label {font-family: monospace;font-weight: bold;display: inline-block;line-height: 1.2em;}#sk-container-id-1 div.sk-label-container {text-align: center;}#sk-container-id-1 div.sk-container {/* jupyter's `normalize.less` sets `[hidden] { display: none; }` but bootstrap.min.css set `[hidden] { display: none !important; }` so we also need the `!important` here to be able to override the default hidden behavior on the sphinx rendered scikit-learn.org. See: https://github.com/scikit-learn/scikit-learn/issues/21755 */display: inline-block !important;position: relative;}#sk-container-id-1 div.sk-text-repr-fallback {display: none;}</style><div id=\"sk-container-id-1\" class=\"sk-top-container\"><div class=\"sk-text-repr-fallback\"><pre>LinearRegression()</pre><b>In a Jupyter environment, please rerun this cell to show the HTML representation or trust the notebook. <br />On GitHub, the HTML representation is unable to render, please try loading this page with nbviewer.org.</b></div><div class=\"sk-container\" hidden><div class=\"sk-item\"><div class=\"sk-estimator sk-toggleable\"><input class=\"sk-toggleable__control sk-hidden--visually\" id=\"sk-estimator-id-1\" type=\"checkbox\" checked><label for=\"sk-estimator-id-1\" class=\"sk-toggleable__label sk-toggleable__label-arrow\">LinearRegression</label><div class=\"sk-toggleable__content\"><pre>LinearRegression()</pre></div></div></div></div></div>"
      ],
      "text/plain": [
       "LinearRegression()"
      ]
     },
     "execution_count": 23,
     "metadata": {},
     "output_type": "execute_result"
    }
   ],
   "source": [
    "regressor = LinearRegression()\n",
    "regressor.fit(X_train, y_train)"
   ]
  },
  {
   "attachments": {},
   "cell_type": "markdown",
   "metadata": {},
   "source": [
    "### Predicción de los resultados del dataset de Test"
   ]
  },
  {
   "cell_type": "code",
   "execution_count": 24,
   "metadata": {},
   "outputs": [
    {
     "name": "stdout",
     "output_type": "stream",
     "text": [
      "         ID\n",
      "31605  4529\n",
      "42714  3571\n",
      "5234    501\n",
      "24047  1585\n",
      "18303  1604\n",
      "...     ...\n",
      "11284  1091\n",
      "44732  1097\n",
      "38158  2573\n",
      "860     860\n",
      "15795  1044\n",
      "\n",
      "[41365 rows x 1 columns]\n",
      "[284.578659  138.4050686 243.2451433 ... 382.3748718 274.1780517\n",
      " 144.052263 ]\n"
     ]
    },
    {
     "ename": "ValueError",
     "evalue": "The feature names should match those that were passed during fit.\nFeature names seen at fit time, yet now missing:\n- bedrooms\n- biz\n- cleanliness_rating\n- dayPrice\n- dayPriceByPerson\n- ...\n",
     "output_type": "error",
     "traceback": [
      "\u001b[1;31m---------------------------------------------------------------------------\u001b[0m",
      "\u001b[1;31mValueError\u001b[0m                                Traceback (most recent call last)",
      "Cell \u001b[1;32mIn[24], line 10\u001b[0m\n\u001b[0;32m      8\u001b[0m \u001b[39mprint\u001b[39m(y_train)\n\u001b[0;32m      9\u001b[0m plt\u001b[39m.\u001b[39mscatter(x, y_train, color \u001b[39m=\u001b[39m \u001b[39m'\u001b[39m\u001b[39mred\u001b[39m\u001b[39m'\u001b[39m)\n\u001b[1;32m---> 10\u001b[0m plt\u001b[39m.\u001b[39mplot(x, regressor\u001b[39m.\u001b[39;49mpredict(x), color \u001b[39m=\u001b[39m \u001b[39m'\u001b[39m\u001b[39mblue\u001b[39m\u001b[39m'\u001b[39m)\n\u001b[0;32m     11\u001b[0m plt\u001b[39m.\u001b[39mtitle(\u001b[39m'\u001b[39m\u001b[39mSalary vs Experience (Training set)\u001b[39m\u001b[39m'\u001b[39m)\n\u001b[0;32m     12\u001b[0m plt\u001b[39m.\u001b[39mxlabel(\u001b[39m'\u001b[39m\u001b[39mYears of Experience\u001b[39m\u001b[39m'\u001b[39m)\n",
      "File \u001b[1;32mc:\\Python311\\Lib\\site-packages\\sklearn\\linear_model\\_base.py:354\u001b[0m, in \u001b[0;36mLinearModel.predict\u001b[1;34m(self, X)\u001b[0m\n\u001b[0;32m    340\u001b[0m \u001b[39mdef\u001b[39;00m \u001b[39mpredict\u001b[39m(\u001b[39mself\u001b[39m, X):\n\u001b[0;32m    341\u001b[0m \u001b[39m    \u001b[39m\u001b[39m\"\"\"\u001b[39;00m\n\u001b[0;32m    342\u001b[0m \u001b[39m    Predict using the linear model.\u001b[39;00m\n\u001b[0;32m    343\u001b[0m \n\u001b[1;32m   (...)\u001b[0m\n\u001b[0;32m    352\u001b[0m \u001b[39m        Returns predicted values.\u001b[39;00m\n\u001b[0;32m    353\u001b[0m \u001b[39m    \"\"\"\u001b[39;00m\n\u001b[1;32m--> 354\u001b[0m     \u001b[39mreturn\u001b[39;00m \u001b[39mself\u001b[39;49m\u001b[39m.\u001b[39;49m_decision_function(X)\n",
      "File \u001b[1;32mc:\\Python311\\Lib\\site-packages\\sklearn\\linear_model\\_base.py:337\u001b[0m, in \u001b[0;36mLinearModel._decision_function\u001b[1;34m(self, X)\u001b[0m\n\u001b[0;32m    334\u001b[0m \u001b[39mdef\u001b[39;00m \u001b[39m_decision_function\u001b[39m(\u001b[39mself\u001b[39m, X):\n\u001b[0;32m    335\u001b[0m     check_is_fitted(\u001b[39mself\u001b[39m)\n\u001b[1;32m--> 337\u001b[0m     X \u001b[39m=\u001b[39m \u001b[39mself\u001b[39;49m\u001b[39m.\u001b[39;49m_validate_data(X, accept_sparse\u001b[39m=\u001b[39;49m[\u001b[39m\"\u001b[39;49m\u001b[39mcsr\u001b[39;49m\u001b[39m\"\u001b[39;49m, \u001b[39m\"\u001b[39;49m\u001b[39mcsc\u001b[39;49m\u001b[39m\"\u001b[39;49m, \u001b[39m\"\u001b[39;49m\u001b[39mcoo\u001b[39;49m\u001b[39m\"\u001b[39;49m], reset\u001b[39m=\u001b[39;49m\u001b[39mFalse\u001b[39;49;00m)\n\u001b[0;32m    338\u001b[0m     \u001b[39mreturn\u001b[39;00m safe_sparse_dot(X, \u001b[39mself\u001b[39m\u001b[39m.\u001b[39mcoef_\u001b[39m.\u001b[39mT, dense_output\u001b[39m=\u001b[39m\u001b[39mTrue\u001b[39;00m) \u001b[39m+\u001b[39m \u001b[39mself\u001b[39m\u001b[39m.\u001b[39mintercept_\n",
      "File \u001b[1;32mc:\\Python311\\Lib\\site-packages\\sklearn\\base.py:548\u001b[0m, in \u001b[0;36mBaseEstimator._validate_data\u001b[1;34m(self, X, y, reset, validate_separately, **check_params)\u001b[0m\n\u001b[0;32m    483\u001b[0m \u001b[39mdef\u001b[39;00m \u001b[39m_validate_data\u001b[39m(\n\u001b[0;32m    484\u001b[0m     \u001b[39mself\u001b[39m,\n\u001b[0;32m    485\u001b[0m     X\u001b[39m=\u001b[39m\u001b[39m\"\u001b[39m\u001b[39mno_validation\u001b[39m\u001b[39m\"\u001b[39m,\n\u001b[1;32m   (...)\u001b[0m\n\u001b[0;32m    489\u001b[0m     \u001b[39m*\u001b[39m\u001b[39m*\u001b[39mcheck_params,\n\u001b[0;32m    490\u001b[0m ):\n\u001b[0;32m    491\u001b[0m \u001b[39m    \u001b[39m\u001b[39m\"\"\"Validate input data and set or check the `n_features_in_` attribute.\u001b[39;00m\n\u001b[0;32m    492\u001b[0m \n\u001b[0;32m    493\u001b[0m \u001b[39m    Parameters\u001b[39;00m\n\u001b[1;32m   (...)\u001b[0m\n\u001b[0;32m    546\u001b[0m \u001b[39m        validated.\u001b[39;00m\n\u001b[0;32m    547\u001b[0m \u001b[39m    \"\"\"\u001b[39;00m\n\u001b[1;32m--> 548\u001b[0m     \u001b[39mself\u001b[39;49m\u001b[39m.\u001b[39;49m_check_feature_names(X, reset\u001b[39m=\u001b[39;49mreset)\n\u001b[0;32m    550\u001b[0m     \u001b[39mif\u001b[39;00m y \u001b[39mis\u001b[39;00m \u001b[39mNone\u001b[39;00m \u001b[39mand\u001b[39;00m \u001b[39mself\u001b[39m\u001b[39m.\u001b[39m_get_tags()[\u001b[39m\"\u001b[39m\u001b[39mrequires_y\u001b[39m\u001b[39m\"\u001b[39m]:\n\u001b[0;32m    551\u001b[0m         \u001b[39mraise\u001b[39;00m \u001b[39mValueError\u001b[39;00m(\n\u001b[0;32m    552\u001b[0m             \u001b[39mf\u001b[39m\u001b[39m\"\u001b[39m\u001b[39mThis \u001b[39m\u001b[39m{\u001b[39;00m\u001b[39mself\u001b[39m\u001b[39m.\u001b[39m\u001b[39m__class__\u001b[39m\u001b[39m.\u001b[39m\u001b[39m__name__\u001b[39m\u001b[39m}\u001b[39;00m\u001b[39m estimator \u001b[39m\u001b[39m\"\u001b[39m\n\u001b[0;32m    553\u001b[0m             \u001b[39m\"\u001b[39m\u001b[39mrequires y to be passed, but the target y is None.\u001b[39m\u001b[39m\"\u001b[39m\n\u001b[0;32m    554\u001b[0m         )\n",
      "File \u001b[1;32mc:\\Python311\\Lib\\site-packages\\sklearn\\base.py:481\u001b[0m, in \u001b[0;36mBaseEstimator._check_feature_names\u001b[1;34m(self, X, reset)\u001b[0m\n\u001b[0;32m    476\u001b[0m \u001b[39mif\u001b[39;00m \u001b[39mnot\u001b[39;00m missing_names \u001b[39mand\u001b[39;00m \u001b[39mnot\u001b[39;00m unexpected_names:\n\u001b[0;32m    477\u001b[0m     message \u001b[39m+\u001b[39m\u001b[39m=\u001b[39m (\n\u001b[0;32m    478\u001b[0m         \u001b[39m\"\u001b[39m\u001b[39mFeature names must be in the same order as they were in fit.\u001b[39m\u001b[39m\\n\u001b[39;00m\u001b[39m\"\u001b[39m\n\u001b[0;32m    479\u001b[0m     )\n\u001b[1;32m--> 481\u001b[0m \u001b[39mraise\u001b[39;00m \u001b[39mValueError\u001b[39;00m(message)\n",
      "\u001b[1;31mValueError\u001b[0m: The feature names should match those that were passed during fit.\nFeature names seen at fit time, yet now missing:\n- bedrooms\n- biz\n- cleanliness_rating\n- dayPrice\n- dayPriceByPerson\n- ...\n"
     ]
    },
    {
     "data": {
      "image/png": "[encoded data removed]",
      "text/plain": [
       "<Figure size 640x480 with 1 Axes>"
      ]
     },
     "metadata": {},
     "output_type": "display_data"
    }
   ],
   "source": [
    "y_pred = regressor.predict(X_test)\n",
    "y_pred\n",
    "\n",
    "\"\"\" Recorrer todas las columnas numéricas para probar la regresión lineal \"\"\"\n",
    "for var in columnas_numericas:\n",
    "    x = X_train[[var]]\n",
    "    print(x)\n",
    "    print(y_train)\n",
    "    plt.scatter(x, y_train, color = 'red')\n",
    "    plt.plot(x, regressor.predict(x), color = 'blue')\n",
    "    plt.title('Salary vs Experience (Training set)')\n",
    "    plt.xlabel('Years of Experience')\n",
    "    plt.ylabel('Salary')\n",
    "    plt.show()"
   ]
  },
  {
   "attachments": {},
   "cell_type": "markdown",
   "metadata": {},
   "source": [
    "## Modelo de Predicción 2"
   ]
  },
  {
   "cell_type": "code",
   "execution_count": 25,
   "metadata": {},
   "outputs": [
    {
     "data": {
      "text/html": [
       "<div>\n",
       "<style scoped>\n",
       "    .dataframe tbody tr th:only-of-type {\n",
       "        vertical-align: middle;\n",
       "    }\n",
       "\n",
       "    .dataframe tbody tr th {\n",
       "        vertical-align: top;\n",
       "    }\n",
       "\n",
       "    .dataframe thead th {\n",
       "        text-align: right;\n",
       "    }\n",
       "</style>\n",
       "<table border=\"1\" class=\"dataframe\">\n",
       "  <thead>\n",
       "    <tr style=\"text-align: right;\">\n",
       "      <th></th>\n",
       "      <th>ID</th>\n",
       "      <th>realSum</th>\n",
       "      <th>dayPrice</th>\n",
       "      <th>dayPriceByPerson</th>\n",
       "      <th>room_type</th>\n",
       "      <th>room_shared</th>\n",
       "      <th>room_private</th>\n",
       "      <th>person_capacity</th>\n",
       "      <th>host_is_superhost</th>\n",
       "      <th>multi</th>\n",
       "      <th>...</th>\n",
       "      <th>metro_dist</th>\n",
       "      <th>attr_index</th>\n",
       "      <th>attr_index_norm</th>\n",
       "      <th>rest_index</th>\n",
       "      <th>rest_index_norm</th>\n",
       "      <th>lng</th>\n",
       "      <th>lat</th>\n",
       "      <th>city</th>\n",
       "      <th>weekday</th>\n",
       "      <th>dist_en_cuadras</th>\n",
       "    </tr>\n",
       "  </thead>\n",
       "  <tbody>\n",
       "    <tr>\n",
       "      <th>0</th>\n",
       "      <td>0</td>\n",
       "      <td>194.033698</td>\n",
       "      <td>388.067396</td>\n",
       "      <td>48.508425</td>\n",
       "      <td>Private room</td>\n",
       "      <td>False</td>\n",
       "      <td>True</td>\n",
       "      <td>2</td>\n",
       "      <td>False</td>\n",
       "      <td>1</td>\n",
       "      <td>...</td>\n",
       "      <td>2.539380003</td>\n",
       "      <td>78.69037927</td>\n",
       "      <td>4.166707868</td>\n",
       "      <td>98.25389587</td>\n",
       "      <td>6.846472824</td>\n",
       "      <td>4.90569</td>\n",
       "      <td>52.41772</td>\n",
       "      <td>Amsterdam</td>\n",
       "      <td>True</td>\n",
       "      <td>50.229638</td>\n",
       "    </tr>\n",
       "    <tr>\n",
       "      <th>1</th>\n",
       "      <td>1</td>\n",
       "      <td>344.245776</td>\n",
       "      <td>1376.983104</td>\n",
       "      <td>86.061444</td>\n",
       "      <td>Private room</td>\n",
       "      <td>False</td>\n",
       "      <td>True</td>\n",
       "      <td>4</td>\n",
       "      <td>False</td>\n",
       "      <td>0</td>\n",
       "      <td>...</td>\n",
       "      <td>0.239403923</td>\n",
       "      <td>631.1763783</td>\n",
       "      <td>33.42120862</td>\n",
       "      <td>837.2807567</td>\n",
       "      <td>58.34292774</td>\n",
       "      <td>4.90005</td>\n",
       "      <td>52.37432</td>\n",
       "      <td>Amsterdam</td>\n",
       "      <td>True</td>\n",
       "      <td>4.883893</td>\n",
       "    </tr>\n",
       "    <tr>\n",
       "      <th>2</th>\n",
       "      <td>2</td>\n",
       "      <td>264.101422</td>\n",
       "      <td>528.202845</td>\n",
       "      <td>66.025356</td>\n",
       "      <td>Private room</td>\n",
       "      <td>False</td>\n",
       "      <td>True</td>\n",
       "      <td>2</td>\n",
       "      <td>False</td>\n",
       "      <td>0</td>\n",
       "      <td>...</td>\n",
       "      <td>3.651621289</td>\n",
       "      <td>75.27587691</td>\n",
       "      <td>3.9859077</td>\n",
       "      <td>95.38695493</td>\n",
       "      <td>6.646700255</td>\n",
       "      <td>4.97512</td>\n",
       "      <td>52.36103</td>\n",
       "      <td>Amsterdam</td>\n",
       "      <td>True</td>\n",
       "      <td>57.483119</td>\n",
       "    </tr>\n",
       "    <tr>\n",
       "      <th>3</th>\n",
       "      <td>3</td>\n",
       "      <td>433.529398</td>\n",
       "      <td>1734.117592</td>\n",
       "      <td>108.382350</td>\n",
       "      <td>Private room</td>\n",
       "      <td>False</td>\n",
       "      <td>True</td>\n",
       "      <td>4</td>\n",
       "      <td>False</td>\n",
       "      <td>0</td>\n",
       "      <td>...</td>\n",
       "      <td>0.439876076</td>\n",
       "      <td>493.2725344</td>\n",
       "      <td>26.11910845</td>\n",
       "      <td>875.0330976</td>\n",
       "      <td>60.97356517</td>\n",
       "      <td>4.89417</td>\n",
       "      <td>52.37663</td>\n",
       "      <td>Amsterdam</td>\n",
       "      <td>True</td>\n",
       "      <td>3.848620</td>\n",
       "    </tr>\n",
       "    <tr>\n",
       "      <th>4</th>\n",
       "      <td>4</td>\n",
       "      <td>485.552926</td>\n",
       "      <td>971.105851</td>\n",
       "      <td>121.388231</td>\n",
       "      <td>Private room</td>\n",
       "      <td>False</td>\n",
       "      <td>True</td>\n",
       "      <td>2</td>\n",
       "      <td>True</td>\n",
       "      <td>0</td>\n",
       "      <td>...</td>\n",
       "      <td>0.318692647</td>\n",
       "      <td>552.8303244</td>\n",
       "      <td>29.272733</td>\n",
       "      <td>815.30574</td>\n",
       "      <td>56.81167696</td>\n",
       "      <td>4.90051</td>\n",
       "      <td>52.37508</td>\n",
       "      <td>Amsterdam</td>\n",
       "      <td>True</td>\n",
       "      <td>5.447382</td>\n",
       "    </tr>\n",
       "    <tr>\n",
       "      <th>...</th>\n",
       "      <td>...</td>\n",
       "      <td>...</td>\n",
       "      <td>...</td>\n",
       "      <td>...</td>\n",
       "      <td>...</td>\n",
       "      <td>...</td>\n",
       "      <td>...</td>\n",
       "      <td>...</td>\n",
       "      <td>...</td>\n",
       "      <td>...</td>\n",
       "      <td>...</td>\n",
       "      <td>...</td>\n",
       "      <td>...</td>\n",
       "      <td>...</td>\n",
       "      <td>...</td>\n",
       "      <td>...</td>\n",
       "      <td>...</td>\n",
       "      <td>...</td>\n",
       "      <td>...</td>\n",
       "      <td>...</td>\n",
       "      <td>...</td>\n",
       "    </tr>\n",
       "    <tr>\n",
       "      <th>51702</th>\n",
       "      <td>1794</td>\n",
       "      <td>715.938574</td>\n",
       "      <td>4295.631442</td>\n",
       "      <td>178.984643</td>\n",
       "      <td>Entire home/apt</td>\n",
       "      <td>False</td>\n",
       "      <td>False</td>\n",
       "      <td>6</td>\n",
       "      <td>False</td>\n",
       "      <td>0</td>\n",
       "      <td>...</td>\n",
       "      <td>0.135447175</td>\n",
       "      <td>219.4024782</td>\n",
       "      <td>15.71215783</td>\n",
       "      <td>438.7568743</td>\n",
       "      <td>10.60458437</td>\n",
       "      <td>16.3794</td>\n",
       "      <td>48.21136</td>\n",
       "      <td>Vienna</td>\n",
       "      <td>False</td>\n",
       "      <td>5.301808</td>\n",
       "    </tr>\n",
       "    <tr>\n",
       "      <th>51703</th>\n",
       "      <td>1795</td>\n",
       "      <td>304.793960</td>\n",
       "      <td>609.587920</td>\n",
       "      <td>76.198490</td>\n",
       "      <td>Entire home/apt</td>\n",
       "      <td>False</td>\n",
       "      <td>False</td>\n",
       "      <td>2</td>\n",
       "      <td>False</td>\n",
       "      <td>0</td>\n",
       "      <td>...</td>\n",
       "      <td>0.100839194</td>\n",
       "      <td>204.9701212</td>\n",
       "      <td>14.67860764</td>\n",
       "      <td>342.1828131</td>\n",
       "      <td>8.27042657</td>\n",
       "      <td>16.3807</td>\n",
       "      <td>48.20296</td>\n",
       "      <td>Vienna</td>\n",
       "      <td>False</td>\n",
       "      <td>8.102052</td>\n",
       "    </tr>\n",
       "    <tr>\n",
       "      <th>51704</th>\n",
       "      <td>1796</td>\n",
       "      <td>637.168969</td>\n",
       "      <td>1274.337938</td>\n",
       "      <td>159.292242</td>\n",
       "      <td>Entire home/apt</td>\n",
       "      <td>False</td>\n",
       "      <td>False</td>\n",
       "      <td>2</td>\n",
       "      <td>False</td>\n",
       "      <td>0</td>\n",
       "      <td>...</td>\n",
       "      <td>0.20253882</td>\n",
       "      <td>169.0734018</td>\n",
       "      <td>12.10792146</td>\n",
       "      <td>282.2964245</td>\n",
       "      <td>6.822995662</td>\n",
       "      <td>16.38568</td>\n",
       "      <td>48.2046</td>\n",
       "      <td>Vienna</td>\n",
       "      <td>False</td>\n",
       "      <td>9.940513</td>\n",
       "    </tr>\n",
       "    <tr>\n",
       "      <th>51705</th>\n",
       "      <td>1797</td>\n",
       "      <td>301.054157</td>\n",
       "      <td>602.108314</td>\n",
       "      <td>75.263539</td>\n",
       "      <td>Private room</td>\n",
       "      <td>False</td>\n",
       "      <td>True</td>\n",
       "      <td>2</td>\n",
       "      <td>False</td>\n",
       "      <td>0</td>\n",
       "      <td>...</td>\n",
       "      <td>0.287434685</td>\n",
       "      <td>109.2365739</td>\n",
       "      <td>7.82280266</td>\n",
       "      <td>158.5633983</td>\n",
       "      <td>3.83241616</td>\n",
       "      <td>16.341</td>\n",
       "      <td>48.192</td>\n",
       "      <td>Vienna</td>\n",
       "      <td>False</td>\n",
       "      <td>30.440997</td>\n",
       "    </tr>\n",
       "    <tr>\n",
       "      <th>51706</th>\n",
       "      <td>1798</td>\n",
       "      <td>133.230489</td>\n",
       "      <td>532.921955</td>\n",
       "      <td>33.307622</td>\n",
       "      <td>Private room</td>\n",
       "      <td>False</td>\n",
       "      <td>True</td>\n",
       "      <td>4</td>\n",
       "      <td>True</td>\n",
       "      <td>1</td>\n",
       "      <td>...</td>\n",
       "      <td>0.480902512</td>\n",
       "      <td>150.4503815</td>\n",
       "      <td>10.77426362</td>\n",
       "      <td>225.2472929</td>\n",
       "      <td>5.444140163</td>\n",
       "      <td>16.39066</td>\n",
       "      <td>48.20811</td>\n",
       "      <td>Vienna</td>\n",
       "      <td>False</td>\n",
       "      <td>12.639317</td>\n",
       "    </tr>\n",
       "  </tbody>\n",
       "</table>\n",
       "<p>51707 rows × 25 columns</p>\n",
       "</div>"
      ],
      "text/plain": [
       "         ID     realSum     dayPrice  dayPriceByPerson        room_type   \n",
       "0         0  194.033698   388.067396         48.508425     Private room  \\\n",
       "1         1  344.245776  1376.983104         86.061444     Private room   \n",
       "2         2  264.101422   528.202845         66.025356     Private room   \n",
       "3         3  433.529398  1734.117592        108.382350     Private room   \n",
       "4         4  485.552926   971.105851        121.388231     Private room   \n",
       "...     ...         ...          ...               ...              ...   \n",
       "51702  1794  715.938574  4295.631442        178.984643  Entire home/apt   \n",
       "51703  1795  304.793960   609.587920         76.198490  Entire home/apt   \n",
       "51704  1796  637.168969  1274.337938        159.292242  Entire home/apt   \n",
       "51705  1797  301.054157   602.108314         75.263539     Private room   \n",
       "51706  1798  133.230489   532.921955         33.307622     Private room   \n",
       "\n",
       "       room_shared  room_private  person_capacity  host_is_superhost  multi   \n",
       "0            False          True                2              False      1  \\\n",
       "1            False          True                4              False      0   \n",
       "2            False          True                2              False      0   \n",
       "3            False          True                4              False      0   \n",
       "4            False          True                2               True      0   \n",
       "...            ...           ...              ...                ...    ...   \n",
       "51702        False         False                6              False      0   \n",
       "51703        False         False                2              False      0   \n",
       "51704        False         False                2              False      0   \n",
       "51705        False          True                2              False      0   \n",
       "51706        False          True                4               True      1   \n",
       "\n",
       "       ...   metro_dist   attr_index  attr_index_norm   rest_index   \n",
       "0      ...  2.539380003  78.69037927      4.166707868  98.25389587  \\\n",
       "1      ...  0.239403923  631.1763783      33.42120862  837.2807567   \n",
       "2      ...  3.651621289  75.27587691        3.9859077  95.38695493   \n",
       "3      ...  0.439876076  493.2725344      26.11910845  875.0330976   \n",
       "4      ...  0.318692647  552.8303244        29.272733    815.30574   \n",
       "...    ...          ...          ...              ...          ...   \n",
       "51702  ...  0.135447175  219.4024782      15.71215783  438.7568743   \n",
       "51703  ...  0.100839194  204.9701212      14.67860764  342.1828131   \n",
       "51704  ...   0.20253882  169.0734018      12.10792146  282.2964245   \n",
       "51705  ...  0.287434685  109.2365739       7.82280266  158.5633983   \n",
       "51706  ...  0.480902512  150.4503815      10.77426362  225.2472929   \n",
       "\n",
       "       rest_index_norm       lng       lat       city weekday dist_en_cuadras  \n",
       "0          6.846472824   4.90569  52.41772  Amsterdam    True       50.229638  \n",
       "1          58.34292774   4.90005  52.37432  Amsterdam    True        4.883893  \n",
       "2          6.646700255   4.97512  52.36103  Amsterdam    True       57.483119  \n",
       "3          60.97356517   4.89417  52.37663  Amsterdam    True        3.848620  \n",
       "4          56.81167696   4.90051  52.37508  Amsterdam    True        5.447382  \n",
       "...                ...       ...       ...        ...     ...             ...  \n",
       "51702      10.60458437   16.3794  48.21136     Vienna   False        5.301808  \n",
       "51703       8.27042657   16.3807  48.20296     Vienna   False        8.102052  \n",
       "51704      6.822995662  16.38568   48.2046     Vienna   False        9.940513  \n",
       "51705       3.83241616    16.341    48.192     Vienna   False       30.440997  \n",
       "51706      5.444140163  16.39066  48.20811     Vienna   False       12.639317  \n",
       "\n",
       "[51707 rows x 25 columns]"
      ]
     },
     "execution_count": 25,
     "metadata": {},
     "output_type": "execute_result"
    }
   ],
   "source": [
    "# de km a cuadras:\n",
    "from_km_to_blocks = 0.1\n",
    "df[\"dist_en_cuadras\"] = df[\"dist\"] / from_km_to_blocks\n",
    "df"
   ]
  },
  {
   "cell_type": "code",
   "execution_count": 37,
   "metadata": {},
   "outputs": [
    {
     "data": {
      "text/plain": [
       "array([50.22963798,  4.88389289, 57.48311915, ...,  9.94051332,\n",
       "       30.4409973 , 12.63931726])"
      ]
     },
     "execution_count": 37,
     "metadata": {},
     "output_type": "execute_result"
    }
   ],
   "source": [
    "X_row = df.iloc[:, -1].values\n",
    "X = X_row.reshape(-1,1)\n",
    "X"
   ]
  },
  {
   "cell_type": "code",
   "execution_count": 72,
   "metadata": {},
   "outputs": [
    {
     "data": {
      "text/plain": [
       "array([194.0336981, 344.245776 , 264.1014224, ..., 637.168969 ,\n",
       "       301.054157 , 133.2304887])"
      ]
     },
     "execution_count": 72,
     "metadata": {},
     "output_type": "execute_result"
    }
   ],
   "source": [
    "y = df.iloc[:, 1].values\n",
    "y"
   ]
  },
  {
   "cell_type": "code",
   "execution_count": 27,
   "metadata": {},
   "outputs": [],
   "source": [
    "X_train, X_test, y_train, y_test = train_test_split(X, y, test_size=0.2, random_state=42)\n"
   ]
  },
  {
   "cell_type": "code",
   "execution_count": 28,
   "metadata": {},
   "outputs": [
    {
     "data": {
      "text/plain": [
       "array([[43.16048955],\n",
       "       [35.02750743],\n",
       "       [10.78494148],\n",
       "       ...,\n",
       "       [34.82529544],\n",
       "       [24.16837991],\n",
       "       [21.3938255 ]])"
      ]
     },
     "execution_count": 28,
     "metadata": {},
     "output_type": "execute_result"
    }
   ],
   "source": [
    "X_train"
   ]
  },
  {
   "cell_type": "code",
   "execution_count": 29,
   "metadata": {},
   "outputs": [
    {
     "data": {
      "text/plain": [
       "array([284.578659 , 138.4050686, 243.2451433, ..., 382.3748718,\n",
       "       274.1780517, 144.052263 ])"
      ]
     },
     "execution_count": 29,
     "metadata": {},
     "output_type": "execute_result"
    }
   ],
   "source": [
    "y_train"
   ]
  },
  {
   "cell_type": "code",
   "execution_count": 30,
   "metadata": {},
   "outputs": [
    {
     "data": {
      "text/html": [
       "<style>#sk-container-id-2 {color: black;background-color: white;}#sk-container-id-2 pre{padding: 0;}#sk-container-id-2 div.sk-toggleable {background-color: white;}#sk-container-id-2 label.sk-toggleable__label {cursor: pointer;display: block;width: 100%;margin-bottom: 0;padding: 0.3em;box-sizing: border-box;text-align: center;}#sk-container-id-2 label.sk-toggleable__label-arrow:before {content: \"▸\";float: left;margin-right: 0.25em;color: #696969;}#sk-container-id-2 label.sk-toggleable__label-arrow:hover:before {color: black;}#sk-container-id-2 div.sk-estimator:hover label.sk-toggleable__label-arrow:before {color: black;}#sk-container-id-2 div.sk-toggleable__content {max-height: 0;max-width: 0;overflow: hidden;text-align: left;background-color: #f0f8ff;}#sk-container-id-2 div.sk-toggleable__content pre {margin: 0.2em;color: black;border-radius: 0.25em;background-color: #f0f8ff;}#sk-container-id-2 input.sk-toggleable__control:checked~div.sk-toggleable__content {max-height: 200px;max-width: 100%;overflow: auto;}#sk-container-id-2 input.sk-toggleable__control:checked~label.sk-toggleable__label-arrow:before {content: \"▾\";}#sk-container-id-2 div.sk-estimator input.sk-toggleable__control:checked~label.sk-toggleable__label {background-color: #d4ebff;}#sk-container-id-2 div.sk-label input.sk-toggleable__control:checked~label.sk-toggleable__label {background-color: #d4ebff;}#sk-container-id-2 input.sk-hidden--visually {border: 0;clip: rect(1px 1px 1px 1px);clip: rect(1px, 1px, 1px, 1px);height: 1px;margin: -1px;overflow: hidden;padding: 0;position: absolute;width: 1px;}#sk-container-id-2 div.sk-estimator {font-family: monospace;background-color: #f0f8ff;border: 1px dotted black;border-radius: 0.25em;box-sizing: border-box;margin-bottom: 0.5em;}#sk-container-id-2 div.sk-estimator:hover {background-color: #d4ebff;}#sk-container-id-2 div.sk-parallel-item::after {content: \"\";width: 100%;border-bottom: 1px solid gray;flex-grow: 1;}#sk-container-id-2 div.sk-label:hover label.sk-toggleable__label {background-color: #d4ebff;}#sk-container-id-2 div.sk-serial::before {content: \"\";position: absolute;border-left: 1px solid gray;box-sizing: border-box;top: 0;bottom: 0;left: 50%;z-index: 0;}#sk-container-id-2 div.sk-serial {display: flex;flex-direction: column;align-items: center;background-color: white;padding-right: 0.2em;padding-left: 0.2em;position: relative;}#sk-container-id-2 div.sk-item {position: relative;z-index: 1;}#sk-container-id-2 div.sk-parallel {display: flex;align-items: stretch;justify-content: center;background-color: white;position: relative;}#sk-container-id-2 div.sk-item::before, #sk-container-id-2 div.sk-parallel-item::before {content: \"\";position: absolute;border-left: 1px solid gray;box-sizing: border-box;top: 0;bottom: 0;left: 50%;z-index: -1;}#sk-container-id-2 div.sk-parallel-item {display: flex;flex-direction: column;z-index: 1;position: relative;background-color: white;}#sk-container-id-2 div.sk-parallel-item:first-child::after {align-self: flex-end;width: 50%;}#sk-container-id-2 div.sk-parallel-item:last-child::after {align-self: flex-start;width: 50%;}#sk-container-id-2 div.sk-parallel-item:only-child::after {width: 0;}#sk-container-id-2 div.sk-dashed-wrapped {border: 1px dashed gray;margin: 0 0.4em 0.5em 0.4em;box-sizing: border-box;padding-bottom: 0.4em;background-color: white;}#sk-container-id-2 div.sk-label label {font-family: monospace;font-weight: bold;display: inline-block;line-height: 1.2em;}#sk-container-id-2 div.sk-label-container {text-align: center;}#sk-container-id-2 div.sk-container {/* jupyter's `normalize.less` sets `[hidden] { display: none; }` but bootstrap.min.css set `[hidden] { display: none !important; }` so we also need the `!important` here to be able to override the default hidden behavior on the sphinx rendered scikit-learn.org. See: https://github.com/scikit-learn/scikit-learn/issues/21755 */display: inline-block !important;position: relative;}#sk-container-id-2 div.sk-text-repr-fallback {display: none;}</style><div id=\"sk-container-id-2\" class=\"sk-top-container\"><div class=\"sk-text-repr-fallback\"><pre>LinearRegression()</pre><b>In a Jupyter environment, please rerun this cell to show the HTML representation or trust the notebook. <br />On GitHub, the HTML representation is unable to render, please try loading this page with nbviewer.org.</b></div><div class=\"sk-container\" hidden><div class=\"sk-item\"><div class=\"sk-estimator sk-toggleable\"><input class=\"sk-toggleable__control sk-hidden--visually\" id=\"sk-estimator-id-2\" type=\"checkbox\" checked><label for=\"sk-estimator-id-2\" class=\"sk-toggleable__label sk-toggleable__label-arrow\">LinearRegression</label><div class=\"sk-toggleable__content\"><pre>LinearRegression()</pre></div></div></div></div></div>"
      ],
      "text/plain": [
       "LinearRegression()"
      ]
     },
     "execution_count": 30,
     "metadata": {},
     "output_type": "execute_result"
    }
   ],
   "source": [
    "regressor = LinearRegression()\n",
    "regressor.fit(X_train, y_train)"
   ]
  },
  {
   "cell_type": "code",
   "execution_count": 31,
   "metadata": {},
   "outputs": [
    {
     "data": {
      "text/plain": [
       "array([266.01767514, 258.28582309, 290.46622575, ..., 279.58395894,\n",
       "       287.34388542, 263.85815773])"
      ]
     },
     "execution_count": 31,
     "metadata": {},
     "output_type": "execute_result"
    }
   ],
   "source": [
    "y_pred = regressor.predict(X_test)\n",
    "y_pred"
   ]
  },
  {
   "cell_type": "code",
   "execution_count": 32,
   "metadata": {},
   "outputs": [
    {
     "data": {
      "image/png": "[encoded data removed]",
      "text/plain": [
       "<Figure size 640x480 with 1 Axes>"
      ]
     },
     "metadata": {},
     "output_type": "display_data"
    }
   ],
   "source": [
    "plt.scatter(X_train, y_train, color = 'blue')\n",
    "plt.plot(X_train, regressor.predict(X_train), color = 'red')\n",
    "plt.title('distancia al centro vs Precio (Training set)')\n",
    "plt.xlabel('distancia al centro (cuadras)')\n",
    "plt.ylabel('precio')\n",
    "\n",
    "y_limit = 750\n",
    "x_limit = 150\n",
    "plt.ylim(0, y_limit)\n",
    "plt.xlim(0,x_limit)\n",
    "\n",
    "plt.show()"
   ]
  },
  {
   "cell_type": "code",
   "execution_count": 33,
   "metadata": {},
   "outputs": [
    {
     "data": {
      "image/png": "[encoded data removed]",
      "text/plain": [
       "<Figure size 640x480 with 1 Axes>"
      ]
     },
     "metadata": {},
     "output_type": "display_data"
    }
   ],
   "source": [
    "plt.scatter(X_test, y_test, color = 'blue')\n",
    "plt.plot(X_train, regressor.predict(X_train), color = 'red')\n",
    "plt.title('distancia al centro vs Precio (Test set)')\n",
    "plt.xlabel('distancia al centro (cuadras)')\n",
    "plt.ylabel('precio')\n",
    "\n",
    "y_limit = 750\n",
    "x_limit = 150\n",
    "plt.ylim(0, y_limit)\n",
    "plt.xlim(0,x_limit)\n",
    "\n",
    "plt.show()"
   ]
  },
  {
   "cell_type": "code",
   "execution_count": 34,
   "metadata": {},
   "outputs": [
    {
     "data": {
      "text/plain": [
       "0.0018443108276641196"
      ]
     },
     "execution_count": 34,
     "metadata": {},
     "output_type": "execute_result"
    }
   ],
   "source": [
    "r2 = r2_score(y_test, y_pred)\n",
    "r2\n",
    "# pesimo coeficiente"
   ]
  },
  {
   "attachments": {},
   "cell_type": "markdown",
   "metadata": {},
   "source": [
    "## Prediccion 3\n",
    "#### Predecir precio por dia (dayPrice), teniendo en cuenta la distancia al centro, y la capacidad del lugar"
   ]
  },
  {
   "cell_type": "code",
   "execution_count": 119,
   "metadata": {},
   "outputs": [],
   "source": [
    "dataset = df\n",
    "\n",
    "X = dataset.iloc[:, [7, 14]].values #Seleccionar variables person_capacity y distancia al centro\n",
    "y = dataset.iloc[:, 2].values #Seleccionar la variable independiente --> dayPrice"
   ]
  },
  {
   "cell_type": "code",
   "execution_count": 120,
   "metadata": {},
   "outputs": [
    {
     "data": {
      "text/html": [
       "<div>\n",
       "<style scoped>\n",
       "    .dataframe tbody tr th:only-of-type {\n",
       "        vertical-align: middle;\n",
       "    }\n",
       "\n",
       "    .dataframe tbody tr th {\n",
       "        vertical-align: top;\n",
       "    }\n",
       "\n",
       "    .dataframe thead th {\n",
       "        text-align: right;\n",
       "    }\n",
       "</style>\n",
       "<table border=\"1\" class=\"dataframe\">\n",
       "  <thead>\n",
       "    <tr style=\"text-align: right;\">\n",
       "      <th></th>\n",
       "      <th>ID</th>\n",
       "      <th>realSum</th>\n",
       "      <th>dayPrice</th>\n",
       "      <th>dayPriceByPerson</th>\n",
       "      <th>room_type</th>\n",
       "      <th>room_shared</th>\n",
       "      <th>room_private</th>\n",
       "      <th>person_capacity</th>\n",
       "      <th>host_is_superhost</th>\n",
       "      <th>multi</th>\n",
       "      <th>...</th>\n",
       "      <th>metro_dist</th>\n",
       "      <th>attr_index</th>\n",
       "      <th>attr_index_norm</th>\n",
       "      <th>rest_index</th>\n",
       "      <th>rest_index_norm</th>\n",
       "      <th>lng</th>\n",
       "      <th>lat</th>\n",
       "      <th>city</th>\n",
       "      <th>weekday</th>\n",
       "      <th>dist_en_cuadras</th>\n",
       "    </tr>\n",
       "  </thead>\n",
       "  <tbody>\n",
       "    <tr>\n",
       "      <th>0</th>\n",
       "      <td>0</td>\n",
       "      <td>194.033698</td>\n",
       "      <td>388.067396</td>\n",
       "      <td>48.508425</td>\n",
       "      <td>Private room</td>\n",
       "      <td>False</td>\n",
       "      <td>True</td>\n",
       "      <td>2</td>\n",
       "      <td>False</td>\n",
       "      <td>1</td>\n",
       "      <td>...</td>\n",
       "      <td>2.539380003</td>\n",
       "      <td>78.69037927</td>\n",
       "      <td>4.166707868</td>\n",
       "      <td>98.25389587</td>\n",
       "      <td>6.846472824</td>\n",
       "      <td>4.90569</td>\n",
       "      <td>52.41772</td>\n",
       "      <td>Amsterdam</td>\n",
       "      <td>True</td>\n",
       "      <td>50.229638</td>\n",
       "    </tr>\n",
       "    <tr>\n",
       "      <th>1</th>\n",
       "      <td>1</td>\n",
       "      <td>344.245776</td>\n",
       "      <td>1376.983104</td>\n",
       "      <td>86.061444</td>\n",
       "      <td>Private room</td>\n",
       "      <td>False</td>\n",
       "      <td>True</td>\n",
       "      <td>4</td>\n",
       "      <td>False</td>\n",
       "      <td>0</td>\n",
       "      <td>...</td>\n",
       "      <td>0.239403923</td>\n",
       "      <td>631.1763783</td>\n",
       "      <td>33.42120862</td>\n",
       "      <td>837.2807567</td>\n",
       "      <td>58.34292774</td>\n",
       "      <td>4.90005</td>\n",
       "      <td>52.37432</td>\n",
       "      <td>Amsterdam</td>\n",
       "      <td>True</td>\n",
       "      <td>4.883893</td>\n",
       "    </tr>\n",
       "    <tr>\n",
       "      <th>2</th>\n",
       "      <td>2</td>\n",
       "      <td>264.101422</td>\n",
       "      <td>528.202845</td>\n",
       "      <td>66.025356</td>\n",
       "      <td>Private room</td>\n",
       "      <td>False</td>\n",
       "      <td>True</td>\n",
       "      <td>2</td>\n",
       "      <td>False</td>\n",
       "      <td>0</td>\n",
       "      <td>...</td>\n",
       "      <td>3.651621289</td>\n",
       "      <td>75.27587691</td>\n",
       "      <td>3.9859077</td>\n",
       "      <td>95.38695493</td>\n",
       "      <td>6.646700255</td>\n",
       "      <td>4.97512</td>\n",
       "      <td>52.36103</td>\n",
       "      <td>Amsterdam</td>\n",
       "      <td>True</td>\n",
       "      <td>57.483119</td>\n",
       "    </tr>\n",
       "    <tr>\n",
       "      <th>3</th>\n",
       "      <td>3</td>\n",
       "      <td>433.529398</td>\n",
       "      <td>1734.117592</td>\n",
       "      <td>108.382350</td>\n",
       "      <td>Private room</td>\n",
       "      <td>False</td>\n",
       "      <td>True</td>\n",
       "      <td>4</td>\n",
       "      <td>False</td>\n",
       "      <td>0</td>\n",
       "      <td>...</td>\n",
       "      <td>0.439876076</td>\n",
       "      <td>493.2725344</td>\n",
       "      <td>26.11910845</td>\n",
       "      <td>875.0330976</td>\n",
       "      <td>60.97356517</td>\n",
       "      <td>4.89417</td>\n",
       "      <td>52.37663</td>\n",
       "      <td>Amsterdam</td>\n",
       "      <td>True</td>\n",
       "      <td>3.848620</td>\n",
       "    </tr>\n",
       "    <tr>\n",
       "      <th>4</th>\n",
       "      <td>4</td>\n",
       "      <td>485.552926</td>\n",
       "      <td>971.105851</td>\n",
       "      <td>121.388231</td>\n",
       "      <td>Private room</td>\n",
       "      <td>False</td>\n",
       "      <td>True</td>\n",
       "      <td>2</td>\n",
       "      <td>True</td>\n",
       "      <td>0</td>\n",
       "      <td>...</td>\n",
       "      <td>0.318692647</td>\n",
       "      <td>552.8303244</td>\n",
       "      <td>29.272733</td>\n",
       "      <td>815.30574</td>\n",
       "      <td>56.81167696</td>\n",
       "      <td>4.90051</td>\n",
       "      <td>52.37508</td>\n",
       "      <td>Amsterdam</td>\n",
       "      <td>True</td>\n",
       "      <td>5.447382</td>\n",
       "    </tr>\n",
       "    <tr>\n",
       "      <th>...</th>\n",
       "      <td>...</td>\n",
       "      <td>...</td>\n",
       "      <td>...</td>\n",
       "      <td>...</td>\n",
       "      <td>...</td>\n",
       "      <td>...</td>\n",
       "      <td>...</td>\n",
       "      <td>...</td>\n",
       "      <td>...</td>\n",
       "      <td>...</td>\n",
       "      <td>...</td>\n",
       "      <td>...</td>\n",
       "      <td>...</td>\n",
       "      <td>...</td>\n",
       "      <td>...</td>\n",
       "      <td>...</td>\n",
       "      <td>...</td>\n",
       "      <td>...</td>\n",
       "      <td>...</td>\n",
       "      <td>...</td>\n",
       "      <td>...</td>\n",
       "    </tr>\n",
       "    <tr>\n",
       "      <th>51702</th>\n",
       "      <td>1794</td>\n",
       "      <td>715.938574</td>\n",
       "      <td>4295.631442</td>\n",
       "      <td>178.984643</td>\n",
       "      <td>Entire home/apt</td>\n",
       "      <td>False</td>\n",
       "      <td>False</td>\n",
       "      <td>6</td>\n",
       "      <td>False</td>\n",
       "      <td>0</td>\n",
       "      <td>...</td>\n",
       "      <td>0.135447175</td>\n",
       "      <td>219.4024782</td>\n",
       "      <td>15.71215783</td>\n",
       "      <td>438.7568743</td>\n",
       "      <td>10.60458437</td>\n",
       "      <td>16.3794</td>\n",
       "      <td>48.21136</td>\n",
       "      <td>Vienna</td>\n",
       "      <td>False</td>\n",
       "      <td>5.301808</td>\n",
       "    </tr>\n",
       "    <tr>\n",
       "      <th>51703</th>\n",
       "      <td>1795</td>\n",
       "      <td>304.793960</td>\n",
       "      <td>609.587920</td>\n",
       "      <td>76.198490</td>\n",
       "      <td>Entire home/apt</td>\n",
       "      <td>False</td>\n",
       "      <td>False</td>\n",
       "      <td>2</td>\n",
       "      <td>False</td>\n",
       "      <td>0</td>\n",
       "      <td>...</td>\n",
       "      <td>0.100839194</td>\n",
       "      <td>204.9701212</td>\n",
       "      <td>14.67860764</td>\n",
       "      <td>342.1828131</td>\n",
       "      <td>8.27042657</td>\n",
       "      <td>16.3807</td>\n",
       "      <td>48.20296</td>\n",
       "      <td>Vienna</td>\n",
       "      <td>False</td>\n",
       "      <td>8.102052</td>\n",
       "    </tr>\n",
       "    <tr>\n",
       "      <th>51704</th>\n",
       "      <td>1796</td>\n",
       "      <td>637.168969</td>\n",
       "      <td>1274.337938</td>\n",
       "      <td>159.292242</td>\n",
       "      <td>Entire home/apt</td>\n",
       "      <td>False</td>\n",
       "      <td>False</td>\n",
       "      <td>2</td>\n",
       "      <td>False</td>\n",
       "      <td>0</td>\n",
       "      <td>...</td>\n",
       "      <td>0.20253882</td>\n",
       "      <td>169.0734018</td>\n",
       "      <td>12.10792146</td>\n",
       "      <td>282.2964245</td>\n",
       "      <td>6.822995662</td>\n",
       "      <td>16.38568</td>\n",
       "      <td>48.2046</td>\n",
       "      <td>Vienna</td>\n",
       "      <td>False</td>\n",
       "      <td>9.940513</td>\n",
       "    </tr>\n",
       "    <tr>\n",
       "      <th>51705</th>\n",
       "      <td>1797</td>\n",
       "      <td>301.054157</td>\n",
       "      <td>602.108314</td>\n",
       "      <td>75.263539</td>\n",
       "      <td>Private room</td>\n",
       "      <td>False</td>\n",
       "      <td>True</td>\n",
       "      <td>2</td>\n",
       "      <td>False</td>\n",
       "      <td>0</td>\n",
       "      <td>...</td>\n",
       "      <td>0.287434685</td>\n",
       "      <td>109.2365739</td>\n",
       "      <td>7.82280266</td>\n",
       "      <td>158.5633983</td>\n",
       "      <td>3.83241616</td>\n",
       "      <td>16.341</td>\n",
       "      <td>48.192</td>\n",
       "      <td>Vienna</td>\n",
       "      <td>False</td>\n",
       "      <td>30.440997</td>\n",
       "    </tr>\n",
       "    <tr>\n",
       "      <th>51706</th>\n",
       "      <td>1798</td>\n",
       "      <td>133.230489</td>\n",
       "      <td>532.921955</td>\n",
       "      <td>33.307622</td>\n",
       "      <td>Private room</td>\n",
       "      <td>False</td>\n",
       "      <td>True</td>\n",
       "      <td>4</td>\n",
       "      <td>True</td>\n",
       "      <td>1</td>\n",
       "      <td>...</td>\n",
       "      <td>0.480902512</td>\n",
       "      <td>150.4503815</td>\n",
       "      <td>10.77426362</td>\n",
       "      <td>225.2472929</td>\n",
       "      <td>5.444140163</td>\n",
       "      <td>16.39066</td>\n",
       "      <td>48.20811</td>\n",
       "      <td>Vienna</td>\n",
       "      <td>False</td>\n",
       "      <td>12.639317</td>\n",
       "    </tr>\n",
       "  </tbody>\n",
       "</table>\n",
       "<p>51707 rows × 25 columns</p>\n",
       "</div>"
      ],
      "text/plain": [
       "         ID     realSum     dayPrice  dayPriceByPerson        room_type   \n",
       "0         0  194.033698   388.067396         48.508425     Private room  \\\n",
       "1         1  344.245776  1376.983104         86.061444     Private room   \n",
       "2         2  264.101422   528.202845         66.025356     Private room   \n",
       "3         3  433.529398  1734.117592        108.382350     Private room   \n",
       "4         4  485.552926   971.105851        121.388231     Private room   \n",
       "...     ...         ...          ...               ...              ...   \n",
       "51702  1794  715.938574  4295.631442        178.984643  Entire home/apt   \n",
       "51703  1795  304.793960   609.587920         76.198490  Entire home/apt   \n",
       "51704  1796  637.168969  1274.337938        159.292242  Entire home/apt   \n",
       "51705  1797  301.054157   602.108314         75.263539     Private room   \n",
       "51706  1798  133.230489   532.921955         33.307622     Private room   \n",
       "\n",
       "       room_shared  room_private  person_capacity  host_is_superhost  multi   \n",
       "0            False          True                2              False      1  \\\n",
       "1            False          True                4              False      0   \n",
       "2            False          True                2              False      0   \n",
       "3            False          True                4              False      0   \n",
       "4            False          True                2               True      0   \n",
       "...            ...           ...              ...                ...    ...   \n",
       "51702        False         False                6              False      0   \n",
       "51703        False         False                2              False      0   \n",
       "51704        False         False                2              False      0   \n",
       "51705        False          True                2              False      0   \n",
       "51706        False          True                4               True      1   \n",
       "\n",
       "       ...   metro_dist   attr_index  attr_index_norm   rest_index   \n",
       "0      ...  2.539380003  78.69037927      4.166707868  98.25389587  \\\n",
       "1      ...  0.239403923  631.1763783      33.42120862  837.2807567   \n",
       "2      ...  3.651621289  75.27587691        3.9859077  95.38695493   \n",
       "3      ...  0.439876076  493.2725344      26.11910845  875.0330976   \n",
       "4      ...  0.318692647  552.8303244        29.272733    815.30574   \n",
       "...    ...          ...          ...              ...          ...   \n",
       "51702  ...  0.135447175  219.4024782      15.71215783  438.7568743   \n",
       "51703  ...  0.100839194  204.9701212      14.67860764  342.1828131   \n",
       "51704  ...   0.20253882  169.0734018      12.10792146  282.2964245   \n",
       "51705  ...  0.287434685  109.2365739       7.82280266  158.5633983   \n",
       "51706  ...  0.480902512  150.4503815      10.77426362  225.2472929   \n",
       "\n",
       "       rest_index_norm       lng       lat       city weekday dist_en_cuadras  \n",
       "0          6.846472824   4.90569  52.41772  Amsterdam    True       50.229638  \n",
       "1          58.34292774   4.90005  52.37432  Amsterdam    True        4.883893  \n",
       "2          6.646700255   4.97512  52.36103  Amsterdam    True       57.483119  \n",
       "3          60.97356517   4.89417  52.37663  Amsterdam    True        3.848620  \n",
       "4          56.81167696   4.90051  52.37508  Amsterdam    True        5.447382  \n",
       "...                ...       ...       ...        ...     ...             ...  \n",
       "51702      10.60458437   16.3794  48.21136     Vienna   False        5.301808  \n",
       "51703       8.27042657   16.3807  48.20296     Vienna   False        8.102052  \n",
       "51704      6.822995662  16.38568   48.2046     Vienna   False        9.940513  \n",
       "51705       3.83241616    16.341    48.192     Vienna   False       30.440997  \n",
       "51706      5.444140163  16.39066  48.20811     Vienna   False       12.639317  \n",
       "\n",
       "[51707 rows x 25 columns]"
      ]
     },
     "execution_count": 120,
     "metadata": {},
     "output_type": "execute_result"
    }
   ],
   "source": [
    "dataset"
   ]
  },
  {
   "cell_type": "code",
   "execution_count": 121,
   "metadata": {},
   "outputs": [
    {
     "data": {
      "text/plain": [
       "array([[2.        , 5.0229638 ],\n",
       "       [4.        , 0.48838929],\n",
       "       [2.        , 5.74831192],\n",
       "       ...,\n",
       "       [2.        , 0.99405133],\n",
       "       [2.        , 3.04409973],\n",
       "       [4.        , 1.26393173]])"
      ]
     },
     "execution_count": 121,
     "metadata": {},
     "output_type": "execute_result"
    }
   ],
   "source": [
    "X"
   ]
  },
  {
   "cell_type": "code",
   "execution_count": 122,
   "metadata": {},
   "outputs": [
    {
     "data": {
      "text/plain": [
       "array([ 388.0673962, 1376.983104 ,  528.2028448, ..., 1274.337938 ,\n",
       "        602.108314 ,  532.9219548])"
      ]
     },
     "execution_count": 122,
     "metadata": {},
     "output_type": "execute_result"
    }
   ],
   "source": [
    "y"
   ]
  },
  {
   "attachments": {},
   "cell_type": "markdown",
   "metadata": {},
   "source": [
    "### 2) Dividir el dataset en Training y Test"
   ]
  },
  {
   "cell_type": "code",
   "execution_count": 123,
   "metadata": {},
   "outputs": [],
   "source": [
    "X_train, X_test, y_train, y_test = train_test_split(X, y, test_size = 1/5, random_state = 78)"
   ]
  },
  {
   "attachments": {},
   "cell_type": "markdown",
   "metadata": {},
   "source": [
    "###  3) Entrenar modelo de Regresión Lineal con el dataset de Training"
   ]
  },
  {
   "cell_type": "code",
   "execution_count": 124,
   "metadata": {},
   "outputs": [
    {
     "data": {
      "text/html": [
       "<style>#sk-container-id-6 {color: black;background-color: white;}#sk-container-id-6 pre{padding: 0;}#sk-container-id-6 div.sk-toggleable {background-color: white;}#sk-container-id-6 label.sk-toggleable__label {cursor: pointer;display: block;width: 100%;margin-bottom: 0;padding: 0.3em;box-sizing: border-box;text-align: center;}#sk-container-id-6 label.sk-toggleable__label-arrow:before {content: \"▸\";float: left;margin-right: 0.25em;color: #696969;}#sk-container-id-6 label.sk-toggleable__label-arrow:hover:before {color: black;}#sk-container-id-6 div.sk-estimator:hover label.sk-toggleable__label-arrow:before {color: black;}#sk-container-id-6 div.sk-toggleable__content {max-height: 0;max-width: 0;overflow: hidden;text-align: left;background-color: #f0f8ff;}#sk-container-id-6 div.sk-toggleable__content pre {margin: 0.2em;color: black;border-radius: 0.25em;background-color: #f0f8ff;}#sk-container-id-6 input.sk-toggleable__control:checked~div.sk-toggleable__content {max-height: 200px;max-width: 100%;overflow: auto;}#sk-container-id-6 input.sk-toggleable__control:checked~label.sk-toggleable__label-arrow:before {content: \"▾\";}#sk-container-id-6 div.sk-estimator input.sk-toggleable__control:checked~label.sk-toggleable__label {background-color: #d4ebff;}#sk-container-id-6 div.sk-label input.sk-toggleable__control:checked~label.sk-toggleable__label {background-color: #d4ebff;}#sk-container-id-6 input.sk-hidden--visually {border: 0;clip: rect(1px 1px 1px 1px);clip: rect(1px, 1px, 1px, 1px);height: 1px;margin: -1px;overflow: hidden;padding: 0;position: absolute;width: 1px;}#sk-container-id-6 div.sk-estimator {font-family: monospace;background-color: #f0f8ff;border: 1px dotted black;border-radius: 0.25em;box-sizing: border-box;margin-bottom: 0.5em;}#sk-container-id-6 div.sk-estimator:hover {background-color: #d4ebff;}#sk-container-id-6 div.sk-parallel-item::after {content: \"\";width: 100%;border-bottom: 1px solid gray;flex-grow: 1;}#sk-container-id-6 div.sk-label:hover label.sk-toggleable__label {background-color: #d4ebff;}#sk-container-id-6 div.sk-serial::before {content: \"\";position: absolute;border-left: 1px solid gray;box-sizing: border-box;top: 0;bottom: 0;left: 50%;z-index: 0;}#sk-container-id-6 div.sk-serial {display: flex;flex-direction: column;align-items: center;background-color: white;padding-right: 0.2em;padding-left: 0.2em;position: relative;}#sk-container-id-6 div.sk-item {position: relative;z-index: 1;}#sk-container-id-6 div.sk-parallel {display: flex;align-items: stretch;justify-content: center;background-color: white;position: relative;}#sk-container-id-6 div.sk-item::before, #sk-container-id-6 div.sk-parallel-item::before {content: \"\";position: absolute;border-left: 1px solid gray;box-sizing: border-box;top: 0;bottom: 0;left: 50%;z-index: -1;}#sk-container-id-6 div.sk-parallel-item {display: flex;flex-direction: column;z-index: 1;position: relative;background-color: white;}#sk-container-id-6 div.sk-parallel-item:first-child::after {align-self: flex-end;width: 50%;}#sk-container-id-6 div.sk-parallel-item:last-child::after {align-self: flex-start;width: 50%;}#sk-container-id-6 div.sk-parallel-item:only-child::after {width: 0;}#sk-container-id-6 div.sk-dashed-wrapped {border: 1px dashed gray;margin: 0 0.4em 0.5em 0.4em;box-sizing: border-box;padding-bottom: 0.4em;background-color: white;}#sk-container-id-6 div.sk-label label {font-family: monospace;font-weight: bold;display: inline-block;line-height: 1.2em;}#sk-container-id-6 div.sk-label-container {text-align: center;}#sk-container-id-6 div.sk-container {/* jupyter's `normalize.less` sets `[hidden] { display: none; }` but bootstrap.min.css set `[hidden] { display: none !important; }` so we also need the `!important` here to be able to override the default hidden behavior on the sphinx rendered scikit-learn.org. See: https://github.com/scikit-learn/scikit-learn/issues/21755 */display: inline-block !important;position: relative;}#sk-container-id-6 div.sk-text-repr-fallback {display: none;}</style><div id=\"sk-container-id-6\" class=\"sk-top-container\"><div class=\"sk-text-repr-fallback\"><pre>LinearRegression()</pre><b>In a Jupyter environment, please rerun this cell to show the HTML representation or trust the notebook. <br />On GitHub, the HTML representation is unable to render, please try loading this page with nbviewer.org.</b></div><div class=\"sk-container\" hidden><div class=\"sk-item\"><div class=\"sk-estimator sk-toggleable\"><input class=\"sk-toggleable__control sk-hidden--visually\" id=\"sk-estimator-id-6\" type=\"checkbox\" checked><label for=\"sk-estimator-id-6\" class=\"sk-toggleable__label sk-toggleable__label-arrow\">LinearRegression</label><div class=\"sk-toggleable__content\"><pre>LinearRegression()</pre></div></div></div></div></div>"
      ],
      "text/plain": [
       "LinearRegression()"
      ]
     },
     "execution_count": 124,
     "metadata": {},
     "output_type": "execute_result"
    }
   ],
   "source": [
    "regressor = LinearRegression()\n",
    "regressor.fit(X_train, y_train)"
   ]
  },
  {
   "cell_type": "code",
   "execution_count": 125,
   "metadata": {},
   "outputs": [
    {
     "name": "stdout",
     "output_type": "stream",
     "text": [
      "coeficiente = [5.06904349e+02 4.54841652e-01], intercepto = -635.4543402151853\n"
     ]
    }
   ],
   "source": [
    "print('coeficiente = ' + str(regressor.coef_) + ', intercepto = ' + str(regressor.intercept_))"
   ]
  },
  {
   "attachments": {},
   "cell_type": "markdown",
   "metadata": {},
   "source": [
    "#### Predecir los resultados del dataset de Test"
   ]
  },
  {
   "cell_type": "code",
   "execution_count": 126,
   "metadata": {},
   "outputs": [
    {
     "data": {
      "text/plain": [
       "array([2406.78847131,  380.76036855,  888.70309558, ..., 2407.16400205,\n",
       "       1393.04208196, 1392.92735925])"
      ]
     },
     "execution_count": 126,
     "metadata": {},
     "output_type": "execute_result"
    }
   ],
   "source": [
    "y_pred = regressor.predict(X_test)\n",
    "y_pred"
   ]
  },
  {
   "attachments": {},
   "cell_type": "markdown",
   "metadata": {},
   "source": [
    "#### Predecir 1 valor puntual"
   ]
  },
  {
   "cell_type": "code",
   "execution_count": 132,
   "metadata": {},
   "outputs": [
    {
     "data": {
      "text/plain": [
       "array([326.2916605])"
      ]
     },
     "execution_count": 132,
     "metadata": {},
     "output_type": "execute_result"
    }
   ],
   "source": [
    "valor_capacidad = 1 \n",
    "valor_distancia = 1000\n",
    "valor_x_array = np.array([valor_capacidad, valor_distancia])\n",
    "pred_valor_x = regressor.predict(valor_x_array.reshape(-2,2))\n",
    "pred_valor_x"
   ]
  },
  {
   "attachments": {},
   "cell_type": "markdown",
   "metadata": {},
   "source": [
    "#### R2 Coeficiente de determinacion\n",
    "Entiende la varianza de los datos del modelo y de los datos reales.\n",
    "Mientras mas se acerca a 1 es mejor."
   ]
  },
  {
   "cell_type": "code",
   "execution_count": 128,
   "metadata": {},
   "outputs": [
    {
     "data": {
      "text/plain": [
       "0.20358297587519636"
      ]
     },
     "execution_count": 128,
     "metadata": {},
     "output_type": "execute_result"
    }
   ],
   "source": [
    "r2 = r2_score(y_test, y_pred)\n",
    "r2"
   ]
  },
  {
   "attachments": {},
   "cell_type": "markdown",
   "metadata": {},
   "source": [
    "#### MSE Mean Square Error - Error cuadratico medio\n",
    "Compara los valores predichos por el modelo con los valores reales al cuadrado."
   ]
  },
  {
   "cell_type": "code",
   "execution_count": 129,
   "metadata": {},
   "outputs": [
    {
     "data": {
      "text/plain": [
       "1548011.1847449585"
      ]
     },
     "execution_count": 129,
     "metadata": {},
     "output_type": "execute_result"
    }
   ],
   "source": [
    "mse = mean_squared_error(y_test, y_pred)\n",
    "mse"
   ]
  },
  {
   "attachments": {},
   "cell_type": "markdown",
   "metadata": {},
   "source": [
    "## Prediccion 4\n",
    "#### Predecir precio por dia (dayPrice), teniendo en cuenta el indice de atraccion del lugar"
   ]
  },
  {
   "cell_type": "code",
   "execution_count": 134,
   "metadata": {},
   "outputs": [],
   "source": [
    "dataset = df\n",
    "\n",
    "X_row = dataset.iloc[:, 17].values #Seleccionar variable attr_indice_normalizado\n",
    "X = X_row.reshape(-1,1)\n",
    "y = dataset.iloc[:, 2].values #Seleccionar la variable independiente --> dayPrice"
   ]
  },
  {
   "cell_type": "code",
   "execution_count": 135,
   "metadata": {},
   "outputs": [
    {
     "data": {
      "text/plain": [
       "array([['4.166707868'],\n",
       "       ['33.42120862'],\n",
       "       ['3.9859077'],\n",
       "       ...,\n",
       "       ['12.10792146'],\n",
       "       ['7.82280266'],\n",
       "       ['10.77426362']], dtype=object)"
      ]
     },
     "execution_count": 135,
     "metadata": {},
     "output_type": "execute_result"
    }
   ],
   "source": [
    "X"
   ]
  },
  {
   "cell_type": "code",
   "execution_count": 136,
   "metadata": {},
   "outputs": [
    {
     "data": {
      "text/plain": [
       "array([ 388.0673962, 1376.983104 ,  528.2028448, ..., 1274.337938 ,\n",
       "        602.108314 ,  532.9219548])"
      ]
     },
     "execution_count": 136,
     "metadata": {},
     "output_type": "execute_result"
    }
   ],
   "source": [
    "y"
   ]
  },
  {
   "attachments": {},
   "cell_type": "markdown",
   "metadata": {},
   "source": [
    "### 2) Dividir el dataset en Training y Test"
   ]
  },
  {
   "cell_type": "code",
   "execution_count": 137,
   "metadata": {},
   "outputs": [],
   "source": [
    "X_train, X_test, y_train, y_test = train_test_split(X, y, test_size = 1/5, random_state = 60)"
   ]
  },
  {
   "attachments": {},
   "cell_type": "markdown",
   "metadata": {},
   "source": [
    "###  3) Entrenar modelo de Regresión Lineal con el dataset de Training"
   ]
  },
  {
   "cell_type": "code",
   "execution_count": 138,
   "metadata": {},
   "outputs": [
    {
     "data": {
      "text/html": [
       "<style>#sk-container-id-7 {color: black;background-color: white;}#sk-container-id-7 pre{padding: 0;}#sk-container-id-7 div.sk-toggleable {background-color: white;}#sk-container-id-7 label.sk-toggleable__label {cursor: pointer;display: block;width: 100%;margin-bottom: 0;padding: 0.3em;box-sizing: border-box;text-align: center;}#sk-container-id-7 label.sk-toggleable__label-arrow:before {content: \"▸\";float: left;margin-right: 0.25em;color: #696969;}#sk-container-id-7 label.sk-toggleable__label-arrow:hover:before {color: black;}#sk-container-id-7 div.sk-estimator:hover label.sk-toggleable__label-arrow:before {color: black;}#sk-container-id-7 div.sk-toggleable__content {max-height: 0;max-width: 0;overflow: hidden;text-align: left;background-color: #f0f8ff;}#sk-container-id-7 div.sk-toggleable__content pre {margin: 0.2em;color: black;border-radius: 0.25em;background-color: #f0f8ff;}#sk-container-id-7 input.sk-toggleable__control:checked~div.sk-toggleable__content {max-height: 200px;max-width: 100%;overflow: auto;}#sk-container-id-7 input.sk-toggleable__control:checked~label.sk-toggleable__label-arrow:before {content: \"▾\";}#sk-container-id-7 div.sk-estimator input.sk-toggleable__control:checked~label.sk-toggleable__label {background-color: #d4ebff;}#sk-container-id-7 div.sk-label input.sk-toggleable__control:checked~label.sk-toggleable__label {background-color: #d4ebff;}#sk-container-id-7 input.sk-hidden--visually {border: 0;clip: rect(1px 1px 1px 1px);clip: rect(1px, 1px, 1px, 1px);height: 1px;margin: -1px;overflow: hidden;padding: 0;position: absolute;width: 1px;}#sk-container-id-7 div.sk-estimator {font-family: monospace;background-color: #f0f8ff;border: 1px dotted black;border-radius: 0.25em;box-sizing: border-box;margin-bottom: 0.5em;}#sk-container-id-7 div.sk-estimator:hover {background-color: #d4ebff;}#sk-container-id-7 div.sk-parallel-item::after {content: \"\";width: 100%;border-bottom: 1px solid gray;flex-grow: 1;}#sk-container-id-7 div.sk-label:hover label.sk-toggleable__label {background-color: #d4ebff;}#sk-container-id-7 div.sk-serial::before {content: \"\";position: absolute;border-left: 1px solid gray;box-sizing: border-box;top: 0;bottom: 0;left: 50%;z-index: 0;}#sk-container-id-7 div.sk-serial {display: flex;flex-direction: column;align-items: center;background-color: white;padding-right: 0.2em;padding-left: 0.2em;position: relative;}#sk-container-id-7 div.sk-item {position: relative;z-index: 1;}#sk-container-id-7 div.sk-parallel {display: flex;align-items: stretch;justify-content: center;background-color: white;position: relative;}#sk-container-id-7 div.sk-item::before, #sk-container-id-7 div.sk-parallel-item::before {content: \"\";position: absolute;border-left: 1px solid gray;box-sizing: border-box;top: 0;bottom: 0;left: 50%;z-index: -1;}#sk-container-id-7 div.sk-parallel-item {display: flex;flex-direction: column;z-index: 1;position: relative;background-color: white;}#sk-container-id-7 div.sk-parallel-item:first-child::after {align-self: flex-end;width: 50%;}#sk-container-id-7 div.sk-parallel-item:last-child::after {align-self: flex-start;width: 50%;}#sk-container-id-7 div.sk-parallel-item:only-child::after {width: 0;}#sk-container-id-7 div.sk-dashed-wrapped {border: 1px dashed gray;margin: 0 0.4em 0.5em 0.4em;box-sizing: border-box;padding-bottom: 0.4em;background-color: white;}#sk-container-id-7 div.sk-label label {font-family: monospace;font-weight: bold;display: inline-block;line-height: 1.2em;}#sk-container-id-7 div.sk-label-container {text-align: center;}#sk-container-id-7 div.sk-container {/* jupyter's `normalize.less` sets `[hidden] { display: none; }` but bootstrap.min.css set `[hidden] { display: none !important; }` so we also need the `!important` here to be able to override the default hidden behavior on the sphinx rendered scikit-learn.org. See: https://github.com/scikit-learn/scikit-learn/issues/21755 */display: inline-block !important;position: relative;}#sk-container-id-7 div.sk-text-repr-fallback {display: none;}</style><div id=\"sk-container-id-7\" class=\"sk-top-container\"><div class=\"sk-text-repr-fallback\"><pre>LinearRegression()</pre><b>In a Jupyter environment, please rerun this cell to show the HTML representation or trust the notebook. <br />On GitHub, the HTML representation is unable to render, please try loading this page with nbviewer.org.</b></div><div class=\"sk-container\" hidden><div class=\"sk-item\"><div class=\"sk-estimator sk-toggleable\"><input class=\"sk-toggleable__control sk-hidden--visually\" id=\"sk-estimator-id-7\" type=\"checkbox\" checked><label for=\"sk-estimator-id-7\" class=\"sk-toggleable__label sk-toggleable__label-arrow\">LinearRegression</label><div class=\"sk-toggleable__content\"><pre>LinearRegression()</pre></div></div></div></div></div>"
      ],
      "text/plain": [
       "LinearRegression()"
      ]
     },
     "execution_count": 138,
     "metadata": {},
     "output_type": "execute_result"
    }
   ],
   "source": [
    "regressor = LinearRegression()\n",
    "regressor.fit(X_train, y_train)"
   ]
  },
  {
   "cell_type": "code",
   "execution_count": 139,
   "metadata": {},
   "outputs": [
    {
     "name": "stdout",
     "output_type": "stream",
     "text": [
      "coeficiente = [35.64356594], intercepto = 491.42686011747855\n"
     ]
    }
   ],
   "source": [
    "print('coeficiente = ' + str(regressor.coef_) + ', intercepto = ' + str(regressor.intercept_))"
   ]
  },
  {
   "attachments": {},
   "cell_type": "markdown",
   "metadata": {},
   "source": [
    "### 4) Predecir los resultados del dataset de Test"
   ]
  },
  {
   "cell_type": "code",
   "execution_count": 140,
   "metadata": {},
   "outputs": [
    {
     "data": {
      "text/plain": [
       "array([1058.04125621, 1353.32468636,  647.02733696, ..., 1358.51174053,\n",
       "       1110.48344873,  671.60695829])"
      ]
     },
     "execution_count": 140,
     "metadata": {},
     "output_type": "execute_result"
    }
   ],
   "source": [
    "y_pred = regressor.predict(X_test)\n",
    "y_pred"
   ]
  },
  {
   "attachments": {},
   "cell_type": "markdown",
   "metadata": {},
   "source": [
    "#### Predecir 1 valor puntual"
   ]
  },
  {
   "cell_type": "code",
   "execution_count": 141,
   "metadata": {},
   "outputs": [
    {
     "data": {
      "text/plain": [
       "array([880.6902438])"
      ]
     },
     "execution_count": 141,
     "metadata": {},
     "output_type": "execute_result"
    }
   ],
   "source": [
    "valor_attr = 10.921\n",
    "valor_x_array = np.array([valor_attr])\n",
    "pred_valor_x = regressor.predict(valor_x_array.reshape(-1,1))\n",
    "pred_valor_x"
   ]
  },
  {
   "attachments": {},
   "cell_type": "markdown",
   "metadata": {},
   "source": [
    "### Visualizar los resultados con el dataset de Training"
   ]
  },
  {
   "cell_type": "code",
   "execution_count": 143,
   "metadata": {},
   "outputs": [
    {
     "ename": "TypeError",
     "evalue": "unhashable type: 'numpy.ndarray'",
     "output_type": "error",
     "traceback": [
      "\u001b[1;31m---------------------------------------------------------------------------\u001b[0m",
      "\u001b[1;31mTypeError\u001b[0m                                 Traceback (most recent call last)",
      "Cell \u001b[1;32mIn[143], line 2\u001b[0m\n\u001b[0;32m      1\u001b[0m plt\u001b[39m.\u001b[39mscatter(X_train\u001b[39m.\u001b[39mtolist(), y_train\u001b[39m.\u001b[39mtolist(), color \u001b[39m=\u001b[39m \u001b[39m'\u001b[39m\u001b[39mred\u001b[39m\u001b[39m'\u001b[39m)\n\u001b[1;32m----> 2\u001b[0m plt\u001b[39m.\u001b[39;49mplot(X_train, y_pred, color \u001b[39m=\u001b[39;49m \u001b[39m'\u001b[39;49m\u001b[39mblue\u001b[39;49m\u001b[39m'\u001b[39;49m)\n\u001b[0;32m      3\u001b[0m plt\u001b[39m.\u001b[39mtitle(\u001b[39m'\u001b[39m\u001b[39mPrecio por dia vs attr\u001b[39m\u001b[39m'\u001b[39m)\n\u001b[0;32m      4\u001b[0m plt\u001b[39m.\u001b[39mxlabel(\u001b[39m'\u001b[39m\u001b[39mattr\u001b[39m\u001b[39m'\u001b[39m)\n",
      "File \u001b[1;32mc:\\Python311\\Lib\\site-packages\\matplotlib\\pyplot.py:2812\u001b[0m, in \u001b[0;36mplot\u001b[1;34m(scalex, scaley, data, *args, **kwargs)\u001b[0m\n\u001b[0;32m   2810\u001b[0m \u001b[39m@_copy_docstring_and_deprecators\u001b[39m(Axes\u001b[39m.\u001b[39mplot)\n\u001b[0;32m   2811\u001b[0m \u001b[39mdef\u001b[39;00m \u001b[39mplot\u001b[39m(\u001b[39m*\u001b[39margs, scalex\u001b[39m=\u001b[39m\u001b[39mTrue\u001b[39;00m, scaley\u001b[39m=\u001b[39m\u001b[39mTrue\u001b[39;00m, data\u001b[39m=\u001b[39m\u001b[39mNone\u001b[39;00m, \u001b[39m*\u001b[39m\u001b[39m*\u001b[39mkwargs):\n\u001b[1;32m-> 2812\u001b[0m     \u001b[39mreturn\u001b[39;00m gca()\u001b[39m.\u001b[39;49mplot(\n\u001b[0;32m   2813\u001b[0m         \u001b[39m*\u001b[39;49margs, scalex\u001b[39m=\u001b[39;49mscalex, scaley\u001b[39m=\u001b[39;49mscaley,\n\u001b[0;32m   2814\u001b[0m         \u001b[39m*\u001b[39;49m\u001b[39m*\u001b[39;49m({\u001b[39m\"\u001b[39;49m\u001b[39mdata\u001b[39;49m\u001b[39m\"\u001b[39;49m: data} \u001b[39mif\u001b[39;49;00m data \u001b[39mis\u001b[39;49;00m \u001b[39mnot\u001b[39;49;00m \u001b[39mNone\u001b[39;49;00m \u001b[39melse\u001b[39;49;00m {}), \u001b[39m*\u001b[39;49m\u001b[39m*\u001b[39;49mkwargs)\n",
      "File \u001b[1;32mc:\\Python311\\Lib\\site-packages\\matplotlib\\axes\\_axes.py:1688\u001b[0m, in \u001b[0;36mAxes.plot\u001b[1;34m(self, scalex, scaley, data, *args, **kwargs)\u001b[0m\n\u001b[0;32m   1445\u001b[0m \u001b[39m\u001b[39m\u001b[39m\"\"\"\u001b[39;00m\n\u001b[0;32m   1446\u001b[0m \u001b[39mPlot y versus x as lines and/or markers.\u001b[39;00m\n\u001b[0;32m   1447\u001b[0m \n\u001b[1;32m   (...)\u001b[0m\n\u001b[0;32m   1685\u001b[0m \u001b[39m(``'green'``) or hex strings (``'#008000'``).\u001b[39;00m\n\u001b[0;32m   1686\u001b[0m \u001b[39m\"\"\"\u001b[39;00m\n\u001b[0;32m   1687\u001b[0m kwargs \u001b[39m=\u001b[39m cbook\u001b[39m.\u001b[39mnormalize_kwargs(kwargs, mlines\u001b[39m.\u001b[39mLine2D)\n\u001b[1;32m-> 1688\u001b[0m lines \u001b[39m=\u001b[39m [\u001b[39m*\u001b[39m\u001b[39mself\u001b[39m\u001b[39m.\u001b[39m_get_lines(\u001b[39m*\u001b[39margs, data\u001b[39m=\u001b[39mdata, \u001b[39m*\u001b[39m\u001b[39m*\u001b[39mkwargs)]\n\u001b[0;32m   1689\u001b[0m \u001b[39mfor\u001b[39;00m line \u001b[39min\u001b[39;00m lines:\n\u001b[0;32m   1690\u001b[0m     \u001b[39mself\u001b[39m\u001b[39m.\u001b[39madd_line(line)\n",
      "File \u001b[1;32mc:\\Python311\\Lib\\site-packages\\matplotlib\\axes\\_base.py:311\u001b[0m, in \u001b[0;36m_process_plot_var_args.__call__\u001b[1;34m(self, data, *args, **kwargs)\u001b[0m\n\u001b[0;32m    309\u001b[0m     this \u001b[39m+\u001b[39m\u001b[39m=\u001b[39m args[\u001b[39m0\u001b[39m],\n\u001b[0;32m    310\u001b[0m     args \u001b[39m=\u001b[39m args[\u001b[39m1\u001b[39m:]\n\u001b[1;32m--> 311\u001b[0m \u001b[39myield from\u001b[39;00m \u001b[39mself\u001b[39;49m\u001b[39m.\u001b[39;49m_plot_args(\n\u001b[0;32m    312\u001b[0m     this, kwargs, ambiguous_fmt_datakey\u001b[39m=\u001b[39;49mambiguous_fmt_datakey)\n",
      "File \u001b[1;32mc:\\Python311\\Lib\\site-packages\\matplotlib\\axes\\_base.py:499\u001b[0m, in \u001b[0;36m_process_plot_var_args._plot_args\u001b[1;34m(self, tup, kwargs, return_kwargs, ambiguous_fmt_datakey)\u001b[0m\n\u001b[0;32m    496\u001b[0m     x, y \u001b[39m=\u001b[39m index_of(xy[\u001b[39m-\u001b[39m\u001b[39m1\u001b[39m])\n\u001b[0;32m    498\u001b[0m \u001b[39mif\u001b[39;00m \u001b[39mself\u001b[39m\u001b[39m.\u001b[39maxes\u001b[39m.\u001b[39mxaxis \u001b[39mis\u001b[39;00m \u001b[39mnot\u001b[39;00m \u001b[39mNone\u001b[39;00m:\n\u001b[1;32m--> 499\u001b[0m     \u001b[39mself\u001b[39;49m\u001b[39m.\u001b[39;49maxes\u001b[39m.\u001b[39;49mxaxis\u001b[39m.\u001b[39;49mupdate_units(x)\n\u001b[0;32m    500\u001b[0m \u001b[39mif\u001b[39;00m \u001b[39mself\u001b[39m\u001b[39m.\u001b[39maxes\u001b[39m.\u001b[39myaxis \u001b[39mis\u001b[39;00m \u001b[39mnot\u001b[39;00m \u001b[39mNone\u001b[39;00m:\n\u001b[0;32m    501\u001b[0m     \u001b[39mself\u001b[39m\u001b[39m.\u001b[39maxes\u001b[39m.\u001b[39myaxis\u001b[39m.\u001b[39mupdate_units(y)\n",
      "File \u001b[1;32mc:\\Python311\\Lib\\site-packages\\matplotlib\\axis.py:1675\u001b[0m, in \u001b[0;36mAxis.update_units\u001b[1;34m(self, data)\u001b[0m\n\u001b[0;32m   1673\u001b[0m neednew \u001b[39m=\u001b[39m \u001b[39mself\u001b[39m\u001b[39m.\u001b[39mconverter \u001b[39m!=\u001b[39m converter\n\u001b[0;32m   1674\u001b[0m \u001b[39mself\u001b[39m\u001b[39m.\u001b[39mconverter \u001b[39m=\u001b[39m converter\n\u001b[1;32m-> 1675\u001b[0m default \u001b[39m=\u001b[39m \u001b[39mself\u001b[39;49m\u001b[39m.\u001b[39;49mconverter\u001b[39m.\u001b[39;49mdefault_units(data, \u001b[39mself\u001b[39;49m)\n\u001b[0;32m   1676\u001b[0m \u001b[39mif\u001b[39;00m default \u001b[39mis\u001b[39;00m \u001b[39mnot\u001b[39;00m \u001b[39mNone\u001b[39;00m \u001b[39mand\u001b[39;00m \u001b[39mself\u001b[39m\u001b[39m.\u001b[39munits \u001b[39mis\u001b[39;00m \u001b[39mNone\u001b[39;00m:\n\u001b[0;32m   1677\u001b[0m     \u001b[39mself\u001b[39m\u001b[39m.\u001b[39mset_units(default)\n",
      "File \u001b[1;32mc:\\Python311\\Lib\\site-packages\\matplotlib\\category.py:105\u001b[0m, in \u001b[0;36mStrCategoryConverter.default_units\u001b[1;34m(data, axis)\u001b[0m\n\u001b[0;32m    103\u001b[0m \u001b[39m# the conversion call stack is default_units -> axis_info -> convert\u001b[39;00m\n\u001b[0;32m    104\u001b[0m \u001b[39mif\u001b[39;00m axis\u001b[39m.\u001b[39munits \u001b[39mis\u001b[39;00m \u001b[39mNone\u001b[39;00m:\n\u001b[1;32m--> 105\u001b[0m     axis\u001b[39m.\u001b[39mset_units(UnitData(data))\n\u001b[0;32m    106\u001b[0m \u001b[39melse\u001b[39;00m:\n\u001b[0;32m    107\u001b[0m     axis\u001b[39m.\u001b[39munits\u001b[39m.\u001b[39mupdate(data)\n",
      "File \u001b[1;32mc:\\Python311\\Lib\\site-packages\\matplotlib\\category.py:181\u001b[0m, in \u001b[0;36mUnitData.__init__\u001b[1;34m(self, data)\u001b[0m\n\u001b[0;32m    179\u001b[0m \u001b[39mself\u001b[39m\u001b[39m.\u001b[39m_counter \u001b[39m=\u001b[39m itertools\u001b[39m.\u001b[39mcount()\n\u001b[0;32m    180\u001b[0m \u001b[39mif\u001b[39;00m data \u001b[39mis\u001b[39;00m \u001b[39mnot\u001b[39;00m \u001b[39mNone\u001b[39;00m:\n\u001b[1;32m--> 181\u001b[0m     \u001b[39mself\u001b[39;49m\u001b[39m.\u001b[39;49mupdate(data)\n",
      "File \u001b[1;32mc:\\Python311\\Lib\\site-packages\\matplotlib\\category.py:214\u001b[0m, in \u001b[0;36mUnitData.update\u001b[1;34m(self, data)\u001b[0m\n\u001b[0;32m    212\u001b[0m \u001b[39m# check if convertible to number:\u001b[39;00m\n\u001b[0;32m    213\u001b[0m convertible \u001b[39m=\u001b[39m \u001b[39mTrue\u001b[39;00m\n\u001b[1;32m--> 214\u001b[0m \u001b[39mfor\u001b[39;00m val \u001b[39min\u001b[39;00m OrderedDict\u001b[39m.\u001b[39;49mfromkeys(data):\n\u001b[0;32m    215\u001b[0m     \u001b[39m# OrderedDict just iterates over unique values in data.\u001b[39;00m\n\u001b[0;32m    216\u001b[0m     _api\u001b[39m.\u001b[39mcheck_isinstance((\u001b[39mstr\u001b[39m, \u001b[39mbytes\u001b[39m), value\u001b[39m=\u001b[39mval)\n\u001b[0;32m    217\u001b[0m     \u001b[39mif\u001b[39;00m convertible:\n\u001b[0;32m    218\u001b[0m         \u001b[39m# this will only be called so long as convertible is True.\u001b[39;00m\n",
      "\u001b[1;31mTypeError\u001b[0m: unhashable type: 'numpy.ndarray'"
     ]
    },
    {
     "data": {
      "image/png": "[encoded data removed]",
      "text/plain": [
       "<Figure size 640x480 with 1 Axes>"
      ]
     },
     "metadata": {},
     "output_type": "display_data"
    }
   ],
   "source": [
    "plt.scatter(X_train.tolist(), y_train.tolist(), color = 'red')\n",
    "plt.plot(X_train, y_pred, color = 'blue')\n",
    "plt.title('Precio por dia vs attr')\n",
    "plt.xlabel('attr')\n",
    "plt.ylabel('Precio por dia')\n",
    "plt.show()"
   ]
  },
  {
   "attachments": {},
   "cell_type": "markdown",
   "metadata": {},
   "source": [
    "#### R2 Coeficiente de determinacion\n",
    "Entiende la varianza de los datos del modelo y de los datos reales.\n",
    "Mientras mas se acerca a 1 es mejor."
   ]
  },
  {
   "cell_type": "code",
   "execution_count": 144,
   "metadata": {},
   "outputs": [
    {
     "data": {
      "text/plain": [
       "0.062409178683917044"
      ]
     },
     "execution_count": 144,
     "metadata": {},
     "output_type": "execute_result"
    }
   ],
   "source": [
    "r2 = r2_score(y_test, y_pred)\n",
    "r2"
   ]
  },
  {
   "attachments": {},
   "cell_type": "markdown",
   "metadata": {},
   "source": [
    "#### MSE Mean Square Error - Error cuadratico medio\n",
    "Compara los valores predichos por el modelo con los valores reales al cuadrado."
   ]
  },
  {
   "cell_type": "code",
   "execution_count": 145,
   "metadata": {},
   "outputs": [
    {
     "data": {
      "text/plain": [
       "1717202.4040502375"
      ]
     },
     "execution_count": 145,
     "metadata": {},
     "output_type": "execute_result"
    }
   ],
   "source": [
    "mse = mean_squared_error(y_test, y_pred)\n",
    "mse"
   ]
  },
  {
   "attachments": {},
   "cell_type": "markdown",
   "metadata": {},
   "source": [
    "## Prediccion 5\n",
    "### Predecir precio por dia (dayPrice), teniendo en cuenta la distancia al metro y al centro"
   ]
  },
  {
   "cell_type": "code",
   "execution_count": 146,
   "metadata": {},
   "outputs": [],
   "source": [
    "dataset = df\n",
    "\n",
    "X = dataset.iloc[:, [14, 15]].values #Seleccionar variables metro_dist y dist\n",
    "y = dataset.iloc[:, 2].values #Seleccionar la variable independiente --> dayPrice"
   ]
  },
  {
   "cell_type": "code",
   "execution_count": 147,
   "metadata": {},
   "outputs": [
    {
     "data": {
      "text/plain": [
       "array([[5.022963798, '2.539380003'],\n",
       "       [0.488389289, '0.239403923'],\n",
       "       [5.748311915, '3.651621289'],\n",
       "       ...,\n",
       "       [0.994051332, '0.20253882'],\n",
       "       [3.04409973, '0.287434685'],\n",
       "       [1.263931726, '0.480902512']], dtype=object)"
      ]
     },
     "execution_count": 147,
     "metadata": {},
     "output_type": "execute_result"
    }
   ],
   "source": [
    "X"
   ]
  },
  {
   "cell_type": "code",
   "execution_count": 148,
   "metadata": {},
   "outputs": [
    {
     "data": {
      "text/plain": [
       "array([ 388.0673962, 1376.983104 ,  528.2028448, ..., 1274.337938 ,\n",
       "        602.108314 ,  532.9219548])"
      ]
     },
     "execution_count": 148,
     "metadata": {},
     "output_type": "execute_result"
    }
   ],
   "source": [
    "y"
   ]
  },
  {
   "attachments": {},
   "cell_type": "markdown",
   "metadata": {},
   "source": [
    "### 2) Dividir el datase en Training y Test"
   ]
  },
  {
   "cell_type": "code",
   "execution_count": 149,
   "metadata": {},
   "outputs": [],
   "source": [
    "X_train, X_test, y_train, y_test = train_test_split(X, y, test_size = 1/3, random_state = 0)"
   ]
  },
  {
   "attachments": {},
   "cell_type": "markdown",
   "metadata": {},
   "source": [
    "###  3) Entrenar modelo de Regresión Lineal con el dataset de Training"
   ]
  },
  {
   "cell_type": "code",
   "execution_count": 150,
   "metadata": {},
   "outputs": [
    {
     "data": {
      "text/html": [
       "<style>#sk-container-id-8 {color: black;background-color: white;}#sk-container-id-8 pre{padding: 0;}#sk-container-id-8 div.sk-toggleable {background-color: white;}#sk-container-id-8 label.sk-toggleable__label {cursor: pointer;display: block;width: 100%;margin-bottom: 0;padding: 0.3em;box-sizing: border-box;text-align: center;}#sk-container-id-8 label.sk-toggleable__label-arrow:before {content: \"▸\";float: left;margin-right: 0.25em;color: #696969;}#sk-container-id-8 label.sk-toggleable__label-arrow:hover:before {color: black;}#sk-container-id-8 div.sk-estimator:hover label.sk-toggleable__label-arrow:before {color: black;}#sk-container-id-8 div.sk-toggleable__content {max-height: 0;max-width: 0;overflow: hidden;text-align: left;background-color: #f0f8ff;}#sk-container-id-8 div.sk-toggleable__content pre {margin: 0.2em;color: black;border-radius: 0.25em;background-color: #f0f8ff;}#sk-container-id-8 input.sk-toggleable__control:checked~div.sk-toggleable__content {max-height: 200px;max-width: 100%;overflow: auto;}#sk-container-id-8 input.sk-toggleable__control:checked~label.sk-toggleable__label-arrow:before {content: \"▾\";}#sk-container-id-8 div.sk-estimator input.sk-toggleable__control:checked~label.sk-toggleable__label {background-color: #d4ebff;}#sk-container-id-8 div.sk-label input.sk-toggleable__control:checked~label.sk-toggleable__label {background-color: #d4ebff;}#sk-container-id-8 input.sk-hidden--visually {border: 0;clip: rect(1px 1px 1px 1px);clip: rect(1px, 1px, 1px, 1px);height: 1px;margin: -1px;overflow: hidden;padding: 0;position: absolute;width: 1px;}#sk-container-id-8 div.sk-estimator {font-family: monospace;background-color: #f0f8ff;border: 1px dotted black;border-radius: 0.25em;box-sizing: border-box;margin-bottom: 0.5em;}#sk-container-id-8 div.sk-estimator:hover {background-color: #d4ebff;}#sk-container-id-8 div.sk-parallel-item::after {content: \"\";width: 100%;border-bottom: 1px solid gray;flex-grow: 1;}#sk-container-id-8 div.sk-label:hover label.sk-toggleable__label {background-color: #d4ebff;}#sk-container-id-8 div.sk-serial::before {content: \"\";position: absolute;border-left: 1px solid gray;box-sizing: border-box;top: 0;bottom: 0;left: 50%;z-index: 0;}#sk-container-id-8 div.sk-serial {display: flex;flex-direction: column;align-items: center;background-color: white;padding-right: 0.2em;padding-left: 0.2em;position: relative;}#sk-container-id-8 div.sk-item {position: relative;z-index: 1;}#sk-container-id-8 div.sk-parallel {display: flex;align-items: stretch;justify-content: center;background-color: white;position: relative;}#sk-container-id-8 div.sk-item::before, #sk-container-id-8 div.sk-parallel-item::before {content: \"\";position: absolute;border-left: 1px solid gray;box-sizing: border-box;top: 0;bottom: 0;left: 50%;z-index: -1;}#sk-container-id-8 div.sk-parallel-item {display: flex;flex-direction: column;z-index: 1;position: relative;background-color: white;}#sk-container-id-8 div.sk-parallel-item:first-child::after {align-self: flex-end;width: 50%;}#sk-container-id-8 div.sk-parallel-item:last-child::after {align-self: flex-start;width: 50%;}#sk-container-id-8 div.sk-parallel-item:only-child::after {width: 0;}#sk-container-id-8 div.sk-dashed-wrapped {border: 1px dashed gray;margin: 0 0.4em 0.5em 0.4em;box-sizing: border-box;padding-bottom: 0.4em;background-color: white;}#sk-container-id-8 div.sk-label label {font-family: monospace;font-weight: bold;display: inline-block;line-height: 1.2em;}#sk-container-id-8 div.sk-label-container {text-align: center;}#sk-container-id-8 div.sk-container {/* jupyter's `normalize.less` sets `[hidden] { display: none; }` but bootstrap.min.css set `[hidden] { display: none !important; }` so we also need the `!important` here to be able to override the default hidden behavior on the sphinx rendered scikit-learn.org. See: https://github.com/scikit-learn/scikit-learn/issues/21755 */display: inline-block !important;position: relative;}#sk-container-id-8 div.sk-text-repr-fallback {display: none;}</style><div id=\"sk-container-id-8\" class=\"sk-top-container\"><div class=\"sk-text-repr-fallback\"><pre>LinearRegression()</pre><b>In a Jupyter environment, please rerun this cell to show the HTML representation or trust the notebook. <br />On GitHub, the HTML representation is unable to render, please try loading this page with nbviewer.org.</b></div><div class=\"sk-container\" hidden><div class=\"sk-item\"><div class=\"sk-estimator sk-toggleable\"><input class=\"sk-toggleable__control sk-hidden--visually\" id=\"sk-estimator-id-8\" type=\"checkbox\" checked><label for=\"sk-estimator-id-8\" class=\"sk-toggleable__label sk-toggleable__label-arrow\">LinearRegression</label><div class=\"sk-toggleable__content\"><pre>LinearRegression()</pre></div></div></div></div></div>"
      ],
      "text/plain": [
       "LinearRegression()"
      ]
     },
     "execution_count": 150,
     "metadata": {},
     "output_type": "execute_result"
    }
   ],
   "source": [
    "regressor = LinearRegression()\n",
    "regressor.fit(X_train, y_train)"
   ]
  },
  {
   "attachments": {},
   "cell_type": "markdown",
   "metadata": {},
   "source": [
    "### 4) Predecir los resultados del dataset de Test"
   ]
  },
  {
   "cell_type": "code",
   "execution_count": 151,
   "metadata": {},
   "outputs": [
    {
     "data": {
      "text/plain": [
       "array([ 975.33005747, 1025.97454687,  980.71525741, ..., 1002.19945463,\n",
       "       1021.26149368, 1028.60543315])"
      ]
     },
     "execution_count": 151,
     "metadata": {},
     "output_type": "execute_result"
    }
   ],
   "source": [
    "y_pred = regressor.predict(X_test)\n",
    "y_pred"
   ]
  },
  {
   "attachments": {},
   "cell_type": "markdown",
   "metadata": {},
   "source": [
    "#### Predecir 1 valor puntual"
   ]
  },
  {
   "cell_type": "code",
   "execution_count": 155,
   "metadata": {},
   "outputs": [
    {
     "data": {
      "text/plain": [
       "array([832.96448734])"
      ]
     },
     "execution_count": 155,
     "metadata": {},
     "output_type": "execute_result"
    }
   ],
   "source": [
    "valor_dist = 5.022\n",
    "valor_metro_dist = 2.539\n",
    "valor_x_array = np.array([valor_dist, valor_metro_dist])\n",
    "pred_valor_x = regressor.predict(valor_x_array.reshape(-2,2))\n",
    "pred_valor_x"
   ]
  },
  {
   "attachments": {},
   "cell_type": "markdown",
   "metadata": {},
   "source": [
    "#### R2 Coeficiente de determinacion\n",
    "Entiende la varianza de los datos del modelo y de los datos reales.\n",
    "Mientras mas se acerca a 1 es mejor."
   ]
  },
  {
   "cell_type": "code",
   "execution_count": 156,
   "metadata": {},
   "outputs": [
    {
     "data": {
      "text/plain": [
       "0.004169984788575665"
      ]
     },
     "execution_count": 156,
     "metadata": {},
     "output_type": "execute_result"
    }
   ],
   "source": [
    "r2 = r2_score(y_test, y_pred)\n",
    "r2"
   ]
  }
 ],
 "metadata": {
  "kernelspec": {
   "display_name": "Python 3",
   "language": "python",
   "name": "python3"
  },
  "language_info": {
   "codemirror_mode": {
    "name": "ipython",
    "version": 3
   },
   "file_extension": ".py",
   "mimetype": "text/x-python",
   "name": "python",
   "nbconvert_exporter": "python",
   "pygments_lexer": "ipython3",
   "version": "3.11.3"
  },
  "orig_nbformat": 4
 },
 "nbformat": 4,
 "nbformat_minor": 2
}
